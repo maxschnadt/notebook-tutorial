{
 "cells": [
  {
   "cell_type": "markdown",
   "id": "662ae9e9-7e1a-417d-93a4-63460f8f73b7",
   "metadata": {
    "jupyter": {
     "outputs_hidden": true
    },
    "tags": []
   },
   "source": [
    "\\tableofcontents  \n",
    "\\pagebreak  "
   ]
  },
  {
   "cell_type": "markdown",
   "id": "suffering-transaction",
   "metadata": {
    "tags": []
   },
   "source": [
    "# Machine Learning in Python"
   ]
  },
  {
   "cell_type": "markdown",
   "id": "surrounded-technical",
   "metadata": {},
   "source": [
    "Im vorherigen Teil haben wir uns mit wissenschaftlichen Berechnungen und Visualisierungen beschäftigt, als auch einen kurzen Einblick in die digitale Singalverarbeitung erhalten. In diesem Teil soll es um Machine Learning gehen. Mit Machine Learning sind hier die alle statistischen Verfahren gemeint, mit deren Hilfe man aus vorhandenen Daten Rückschlüsse zu ähnlichen Vorgängen ziehen kann. Formal lässt sich Machine Learning so definieren[<sup id=\"fn1-back\">[1]</sup>](#fn1):\n",
    "\n",
    "> ,,`A computer program is said to learn from experience E with respect to some class of tasks T and performance measure P, if its performance at tasks in T, as measured by P, improves with experience E.`\""
   ]
  },
  {
   "cell_type": "markdown",
   "id": "7440ef98-5e8c-44aa-b484-83d84f22c1e5",
   "metadata": {},
   "source": [
    "In diesem Tutorial soll es nur um die klassischen Verfahren gehen, welche ohne neuronale Netze ausgekommen. Neuronale Netzte und Deep Learning werden in einem anderen Tutorial vorgestellt. Nur so viel: Deep Learning zählt zu Machine Learning, hat aber eine andere Herangehensweise, welche mehr auf Heuristik statt exakte Beweise setzt."
   ]
  },
  {
   "cell_type": "markdown",
   "id": "71f03245-bc5d-4ab7-8bff-ebc2d726b614",
   "metadata": {},
   "source": [
    "## Einteilung von Machine Learning"
   ]
  },
  {
   "cell_type": "markdown",
   "id": "9eff3f02-9c03-43df-9339-f2d82dc76e04",
   "metadata": {},
   "source": [
    "Machine Learning lässt sich grob in drei Kategorien einteilen:\n",
    "\n",
    "* Supervised Learning\n",
    "* Unsupervised Learning\n",
    "* Reinforcement Learning\n",
    "\n",
    "Worum es bei jeder Kategorie geht werden wir nun eingehender beleuchten."
   ]
  },
  {
   "cell_type": "markdown",
   "id": "7017218a-17ce-4083-bd7d-201389948052",
   "metadata": {},
   "source": [
    "![Test](ML_diagram.png)"
   ]
  },
  {
   "cell_type": "markdown",
   "id": "c2e560ce-8b85-418f-9518-0ed1fdcc716e",
   "metadata": {},
   "source": [
    "### Supervised Learning"
   ]
  },
  {
   "cell_type": "markdown",
   "id": "41750223-4e9a-4c02-9e6a-e8862d2586bc",
   "metadata": {},
   "source": [
    "Supervised Learning ist der simpelste Fall: Wir haben einen Datensatz (\"dataset\") welcher zu jedem Datenpunkt die Eigenschaften (\"features\") und das Ziel (\"label\" oder \"target\") enthält. Entscheidend ist hier das vorhandensein des Ziels: Wenn wir unseren Algorithmus trainieren können wir ihm vorgeben was er genau lernen soll, ihn also dabei überwachen.\n",
    "\n",
    "Man unterscheidet dann nochmal zwischen Klassifikation und Regression: Bei Klassifikation ist unser Ziel eine diskrete Variable, beispielsweise die natürlichen Zahlen 1 bis 9 oder ob jemand Brustkrebs hat oder nicht. Wir wollen dann eine Wahrscheinlichkeit ermitteln, dass ein Datenpunkt zu einer der Klassen gehört. Bei der Regression ist unser Ziel eine kontinuierliche Variable, wie beispielsweise der Preis eines Hauses oder der Wert einer Aktie. Dann wollen wir einen numerischen Wert ermitteln."
   ]
  },
  {
   "cell_type": "markdown",
   "id": "87cbd97c-8ed6-4086-8dcb-1cd6142c4a51",
   "metadata": {},
   "source": [
    "### Unsupervised Learning"
   ]
  },
  {
   "cell_type": "markdown",
   "id": "3972f0bb-49d1-480e-9c7c-8bb901a1458d",
   "metadata": {},
   "source": [
    "Unsupervised Learning unterscheidet sich von Supervised Learning, als dass wir keine konkrete Variable haben, auf die wir unseren Algorithmus trainieren. Stattdessen suchen wir nach Strukturen in unseren Daten, welche in (einer für uns unbekannten) Beziehung zu den Daten stehen.\n",
    "\n",
    "Dazu zählt beispielsweise das Clustering, bei welchem man nach Gruppen (\"clustern\") innerhalb der Daten sucht. Ein Beispiel dafür wäre das Einteilen von Webseitenbesuchern in verschiedene Gruppen, um Werbung auf die Mitglieder der jeweiligen Gruppe zuzuschneiden.\n",
    "\n",
    "Ebenfalls gehört zum Unsupervised Learning die Anomaly oder Outlier Erkennung. Hierbei geht man davon aus, dass der Großteil der Daten einem Muster folgt, sich also normal verhält. Man will nun die Elemente ermitteln, welche diesem Muster nicht folgen, also Außenseiter sind. Beispielsweise könnte eine Bank durch Anomaly Erkennung versuchen, legitime Überweisungen von betrügerischen zu unterscheiden und so ihre Kunden vor Diebstahl schützen.\n",
    "\n",
    "Zu guter letzt sei noch die Dimensionsreduzierung zu nennen. Liegen zu unseren Daten sehr viele Eigenschaften vor, von denen viele aber nur wenig aussagekräftig sind, können wir über Dimensionsreduzierung unsere Daten auf die nötigsten Eigenschaften reduzieren, ohne dabei substantiell an Aussagekraft zu verlieren. Wir komprimieren unsere Daten also, was eines der Anwendungsgebiete darstellt."
   ]
  },
  {
   "cell_type": "markdown",
   "id": "d2907999-d19c-430c-b7a6-d645e325a6af",
   "metadata": {},
   "source": [
    "### Reinforcement Learning"
   ]
  },
  {
   "cell_type": "markdown",
   "id": "80304b84-7133-45df-aa47-cd23382fe94b",
   "metadata": {},
   "source": [
    "Reinforcement Learning ist im Gegensatz zu Supervised und Unsupervised Learning kein klassisches Lernen anhand von statischer Daten, sondern Lernen auf Grund von Feedback einer (dynamischen) Umgebung. Ein Agent wird dabei in eine simulierte Umgebung gesetzt und kann dort Aktionen ausführen, welche wiederum die Umgebung beeinflussen. Ziel des Agenten ist es nun, Belohnungen (\"rewards\") zu sammeln und Bestrafungen (\"punishments\") zu vermeiden. Auf Grund des Feedbacks der Umgebung lernt der Agent so, welche Aktionen er wann ausführen sollte. Ein Beispiel für Reinforcement Learning sind selbstfahrende Autos oder autonome mobile Roboter, aber auch das Spielen eines Videospiels fällt unter diese Kategorie.\n",
    "\n",
    "Im Gegensatz zu den anderen beiden Kategorien ist Reinforcement Learning auf Grund seiner Dynamik deutlich komplexer und wird heutzutage meist mit neuronalen Netzen gelöst. Wir werden in diesem Tutorial nicht weiter auf Reinforcement Learning eingehen."
   ]
  },
  {
   "cell_type": "markdown",
   "id": "6048fce3-7397-49cc-a1b9-e4fffc9a17ca",
   "metadata": {},
   "source": [
    "## Pakete"
   ]
  },
  {
   "cell_type": "markdown",
   "id": "96a4c665-8c89-4436-85e5-e3a9a5feddbc",
   "metadata": {},
   "source": [
    "Wir werden im folgenden Abschnitt die Pakete\n",
    "\n",
    "* [NumPy](https://numpy.org),\n",
    "* [scikit-learn](https://scikit-learn.org),\n",
    "* [pandas](https://pandas.pydata.org) und\n",
    "* [matplotlib](https://matplotlib.org)\n",
    "\n",
    "verwenden, welche wir deshalb zu nächst importieren. NumPy, pandas und matplotlib werden via alias importiert."
   ]
  },
  {
   "cell_type": "code",
   "execution_count": 2,
   "id": "fddb1a51-0b1e-4742-a3a9-a86090279fe5",
   "metadata": {},
   "outputs": [],
   "source": [
    "import numpy as np\n",
    "import pandas as pd\n",
    "import matplotlib.pyplot as plt\n",
    "import sklearn"
   ]
  },
  {
   "cell_type": "markdown",
   "id": "1e9f21af-b8f8-465e-9327-b771bb4d7320",
   "metadata": {},
   "source": [
    "# Daten einlesen"
   ]
  },
  {
   "cell_type": "markdown",
   "id": "65dc387b-77d2-453a-947d-4b48ea81a339",
   "metadata": {},
   "source": [
    "Grundsätzlich beginnt jedes Machine Learning Projekt mit dem erfassen der Daten, so auch hier. In diesem konkreten Fall liegen die Daten in Form einer CSV Datei vor, die sich im selben Verzeichnis befindet wie dieses Notebook. Deshalb müssen wir als Dateipfad nur den Namen der Datei inklusive Dateiendung angeben. Unsere Datei trägt den Namen `housing.csv`."
   ]
  },
  {
   "cell_type": "code",
   "execution_count": 1,
   "id": "212b3f63-a688-4403-852e-fd7bd67a1de8",
   "metadata": {},
   "outputs": [],
   "source": [
    "file_path = \"housing.csv\""
   ]
  },
  {
   "cell_type": "markdown",
   "id": "46123c34-953e-4d9d-93c8-848e6ee259b6",
   "metadata": {},
   "source": [
    "Wir könnten jetzt die Datei mit NumPy importieren, allerdings ist NumPy primär für die Verarbeitung von numerischen Werten geeignet, welche noch dazu alle den selben Datentyp haben müssen. Unsere Datei enthält aber sowohl gemischte Datentypen als auch Strings, weshalb hier der Einsatz von `pandas` Sinn ergibt."
   ]
  },
  {
   "cell_type": "markdown",
   "id": "86f215fc-2845-4150-81da-a59f4cd99c45",
   "metadata": {},
   "source": [
    "## Einführung in pandas"
   ]
  },
  {
   "cell_type": "code",
   "execution_count": null,
   "id": "c16ea2e0-5c9c-41ea-a04e-10aabbf3a7e1",
   "metadata": {},
   "outputs": [],
   "source": []
  },
  {
   "cell_type": "markdown",
   "id": "1440a9f6-5b75-46b0-9117-036cb28a0de2",
   "metadata": {},
   "source": [
    "\\pagebreak"
   ]
  },
  {
   "cell_type": "markdown",
   "id": "996a4206-08a7-441f-abd6-3376d47a962a",
   "metadata": {},
   "source": [
    "# Literaturverzeichnis"
   ]
  },
  {
   "cell_type": "markdown",
   "id": "4f1aa71b-1cd1-445e-b7ca-6a6673ee82b3",
   "metadata": {},
   "source": [
    "[<sup id=\"fn1\">[1]</sup>](#fn1-back) *Mitchell, Tom M.*: Machine Learning, New York: McGraw-Hill, 1997, S. 2"
   ]
  }
 ],
 "metadata": {
  "authors": [
   {
    "name": "Maximilian Schnadt"
   }
  ],
  "ipub": {
   "listfigures": true,
   "listtables": true,
   "toc": true
  },
  "kernelspec": {
   "display_name": "Python 3 (ipykernel)",
   "language": "python",
   "name": "python3"
  },
  "language_info": {
   "codemirror_mode": {
    "name": "ipython",
    "version": 3
   },
   "file_extension": ".py",
   "mimetype": "text/x-python",
   "name": "python",
   "nbconvert_exporter": "python",
   "pygments_lexer": "ipython3",
   "version": "3.8.12"
  }
 },
 "nbformat": 4,
 "nbformat_minor": 5
}
