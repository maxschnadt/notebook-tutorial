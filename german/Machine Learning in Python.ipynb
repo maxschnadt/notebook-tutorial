{
 "cells": [
  {
   "cell_type": "markdown",
   "id": "662ae9e9-7e1a-417d-93a4-63460f8f73b7",
   "metadata": {
    "jupyter": {
     "outputs_hidden": true
    },
    "tags": []
   },
   "source": [
    "\\tableofcontents  \n",
    "\\pagebreak  "
   ]
  },
  {
   "cell_type": "markdown",
   "id": "suffering-transaction",
   "metadata": {
    "tags": []
   },
   "source": [
    "# Machine Learning in Python"
   ]
  },
  {
   "cell_type": "markdown",
   "id": "surrounded-technical",
   "metadata": {},
   "source": [
    "Im vorherigen Teil haben wir uns mit wissenschaftlichen Berechnungen und Visualisierungen beschäftigt, als auch einen kurzen Einblick in die digitale Singalverarbeitung erhalten. In diesem Teil soll es um Machine Learning gehen. Mit Machine Learning sind hier die alle statistischen Verfahren gemeint, mit deren Hilfe man aus vorhandenen Daten Rückschlüsse zu ähnlichen Vorgängen ziehen kann. Formal lässt sich Machine Learning so definieren[<sup id=\"fn1-back\">[1]</sup>](#fn1):\n",
    "\n",
    "$$\n",
    "\\text{,,A computer program is said to learn from experience E with respect to some class of tasks T and performance measure P,} \\newline\n",
    "\\text{if its performance at tasks in T, as measured by P, improves with experience E.''}\n",
    "$$"
   ]
  },
  {
   "cell_type": "markdown",
   "id": "7440ef98-5e8c-44aa-b484-83d84f22c1e5",
   "metadata": {},
   "source": [
    "In diesem Tutorial soll es nur um die klassischen Verfahren gehen, welche ohne neuronale Netze ausgekommen. Neuronale Netzte und Deep Learning werden in einem anderen Tutorial vorgestellt. Nur so viel: Deep Learning zählt zu Machine Learning, hat aber eine andere Herangehensweise, welche mehr auf Heuristik statt exakte Beweise setzt."
   ]
  },
  {
   "cell_type": "markdown",
   "id": "6048fce3-7397-49cc-a1b9-e4fffc9a17ca",
   "metadata": {},
   "source": [
    "## Pakete"
   ]
  },
  {
   "cell_type": "markdown",
   "id": "96a4c665-8c89-4436-85e5-e3a9a5feddbc",
   "metadata": {},
   "source": [
    "Wir werden im folgenden Abschnitt die Pakete\n",
    "\n",
    "* NumPy\n",
    "* scikit-learn\n",
    "* Pandas\n",
    "* Matplotlib\n",
    "\n",
    "verwenden, welche wir deshalb zu nächst importieren. NumPy, Pandas und Matplotlib werden via alias importiert."
   ]
  },
  {
   "cell_type": "code",
   "execution_count": 2,
   "id": "fddb1a51-0b1e-4742-a3a9-a86090279fe5",
   "metadata": {},
   "outputs": [],
   "source": [
    "import numpy as np\n",
    "import pandas as pd\n",
    "import matplotlib.pyplot as plt\n",
    "import sklearn"
   ]
  },
  {
   "cell_type": "markdown",
   "id": "1440a9f6-5b75-46b0-9117-036cb28a0de2",
   "metadata": {},
   "source": [
    "\\pagebreak"
   ]
  },
  {
   "cell_type": "markdown",
   "id": "996a4206-08a7-441f-abd6-3376d47a962a",
   "metadata": {},
   "source": [
    "# Literaturverzeichnis"
   ]
  },
  {
   "cell_type": "markdown",
   "id": "4f1aa71b-1cd1-445e-b7ca-6a6673ee82b3",
   "metadata": {},
   "source": [
    "[<sup id=\"fn1\">[1]</sup>](#fn1-back) *Mitchell, Tom M.*: Machine Learning, New York: McGraw-Hill, 1997, S. 2"
   ]
  },
  {
   "cell_type": "code",
   "execution_count": null,
   "id": "02735521-783f-4ffc-aee7-4dfee46c730d",
   "metadata": {},
   "outputs": [],
   "source": []
  }
 ],
 "metadata": {
  "authors": [
   {
    "name": "Maximilian Schnadt"
   }
  ],
  "ipub": {
   "listfigures": true,
   "listtables": true,
   "toc": true
  },
  "kernelspec": {
   "display_name": "Python 3 (ipykernel)",
   "language": "python",
   "name": "python3"
  },
  "language_info": {
   "codemirror_mode": {
    "name": "ipython",
    "version": 3
   },
   "file_extension": ".py",
   "mimetype": "text/x-python",
   "name": "python",
   "nbconvert_exporter": "python",
   "pygments_lexer": "ipython3",
   "version": "3.8.12"
  }
 },
 "nbformat": 4,
 "nbformat_minor": 5
}
