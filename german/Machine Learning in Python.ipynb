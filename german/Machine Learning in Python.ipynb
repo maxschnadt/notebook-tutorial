{
 "cells": [
  {
   "cell_type": "markdown",
   "id": "662ae9e9-7e1a-417d-93a4-63460f8f73b7",
   "metadata": {
    "jupyter": {
     "outputs_hidden": true
    },
    "tags": []
   },
   "source": [
    "\\tableofcontents  \n",
    "\\pagebreak  "
   ]
  },
  {
   "cell_type": "markdown",
   "id": "suffering-transaction",
   "metadata": {
    "tags": []
   },
   "source": [
    "# Machine Learning in Python"
   ]
  },
  {
   "cell_type": "markdown",
   "id": "surrounded-technical",
   "metadata": {},
   "source": [
    "Im vorherigen Teil haben wir uns mit wissenschaftlichen Berechnungen und Visualisierungen beschäftigt, als auch einen kurzen Einblick in die digitale Singalverarbeitung erhalten. In diesem Teil soll es um Machine Learning gehen. Mit Machine Learning sind hier die alle statistischen Verfahren gemeint, mit deren Hilfe man aus vorhandenen Daten Rückschlüsse zu ähnlichen Vorgängen ziehen kann. Formal lässt sich Machine Learning so definieren[<sup id=\"fn1-back\">[1]</sup>](#fn1):\n",
    "\n",
    "> ,,`A computer program is said to learn from experience E with respect to some class of tasks T and performance measure P, if its performance at tasks in T, as measured by P, improves with experience E.`\""
   ]
  },
  {
   "cell_type": "markdown",
   "id": "7440ef98-5e8c-44aa-b484-83d84f22c1e5",
   "metadata": {},
   "source": [
    "In diesem Tutorial soll es nur um die klassischen Verfahren gehen, welche ohne neuronale Netze ausgekommen. Neuronale Netzte und Deep Learning werden in einem anderen Tutorial vorgestellt. Nur so viel: Deep Learning zählt zu Machine Learning, hat aber eine andere Herangehensweise, welche mehr auf Heuristik statt exakte Beweise setzt."
   ]
  },
  {
   "cell_type": "markdown",
   "id": "71f03245-bc5d-4ab7-8bff-ebc2d726b614",
   "metadata": {},
   "source": [
    "## Einteilung von Machine Learning"
   ]
  },
  {
   "cell_type": "markdown",
   "id": "9eff3f02-9c03-43df-9339-f2d82dc76e04",
   "metadata": {},
   "source": [
    "Machine Learning lässt sich grob in drei Kategorien einteilen:\n",
    "\n",
    "* Supervised Learning\n",
    "* Unsupervised Learning\n",
    "* Reinforcement Learning\n",
    "\n",
    "Worum es bei jeder Kategorie geht werden wir nun eingehender beleuchten."
   ]
  },
  {
   "cell_type": "markdown",
   "id": "7017218a-17ce-4083-bd7d-201389948052",
   "metadata": {},
   "source": [
    "![Test](ML_diagram.png)"
   ]
  },
  {
   "cell_type": "markdown",
   "id": "c2e560ce-8b85-418f-9518-0ed1fdcc716e",
   "metadata": {},
   "source": [
    "### Supervised Learning"
   ]
  },
  {
   "cell_type": "markdown",
   "id": "41750223-4e9a-4c02-9e6a-e8862d2586bc",
   "metadata": {},
   "source": [
    "Supervised Learning ist der simpelste Fall: Wir haben einen Datensatz (\"dataset\") welcher zu jedem Datenpunkt die Eigenschaften (\"features\") und das Ziel (\"label\" oder \"target\") enthält. Entscheidend ist hier das vorhandensein des Ziels: Wenn wir unseren Algorithmus trainieren können wir ihm vorgeben was er genau lernen soll, ihn also dabei überwachen.\n",
    "\n",
    "Man unterscheidet dann nochmal zwischen Klassifikation und Regression: Bei Klassifikation ist unser Ziel eine diskrete Variable, beispielsweise die natürlichen Zahlen 1 bis 9 oder ob jemand Brustkrebs hat oder nicht. Wir wollen dann eine Wahrscheinlichkeit ermitteln, dass ein Datenpunkt zu einer der Klassen gehört. Bei der Regression ist unser Ziel eine kontinuierliche Variable, wie beispielsweise der Preis eines Hauses oder der Wert einer Aktie. Dann wollen wir einen numerischen Wert ermitteln."
   ]
  },
  {
   "cell_type": "markdown",
   "id": "87cbd97c-8ed6-4086-8dcb-1cd6142c4a51",
   "metadata": {},
   "source": [
    "### Unsupervised Learning"
   ]
  },
  {
   "cell_type": "markdown",
   "id": "3972f0bb-49d1-480e-9c7c-8bb901a1458d",
   "metadata": {},
   "source": [
    "Unsupervised Learning unterscheidet sich von Supervised Learning, als dass wir keine konkrete Variable haben, auf die wir unseren Algorithmus trainieren. Stattdessen suchen wir nach Strukturen in unseren Daten, welche in (einer für uns unbekannten) Beziehung zu den Daten stehen.\n",
    "\n",
    "Dazu zählt beispielsweise das Clustering, bei welchem man nach Gruppen (\"clustern\") innerhalb der Daten sucht. Ein Beispiel dafür wäre das Einteilen von Webseitenbesuchern in verschiedene Gruppen, um Werbung auf die Mitglieder der jeweiligen Gruppe zuzuschneiden.\n",
    "\n",
    "Ebenfalls gehört zum Unsupervised Learning die Anomaly oder Outlier Erkennung. Hierbei geht man davon aus, dass der Großteil der Daten einem Muster folgt, sich also normal verhält. Man will nun die Elemente ermitteln, welche diesem Muster nicht folgen, also Außenseiter sind. Beispielsweise könnte eine Bank durch Anomaly Erkennung versuchen, legitime Überweisungen von betrügerischen zu unterscheiden und so ihre Kunden vor Diebstahl schützen.\n",
    "\n",
    "Zu guter letzt sei noch die Dimensionsreduzierung zu nennen. Liegen zu unseren Daten sehr viele Eigenschaften vor, von denen viele aber nur wenig aussagekräftig sind, können wir über Dimensionsreduzierung unsere Daten auf die nötigsten Eigenschaften reduzieren, ohne dabei substantiell an Aussagekraft zu verlieren. Wir komprimieren unsere Daten also, was eines der Anwendungsgebiete darstellt."
   ]
  },
  {
   "cell_type": "markdown",
   "id": "d2907999-d19c-430c-b7a6-d645e325a6af",
   "metadata": {},
   "source": [
    "### Reinforcement Learning"
   ]
  },
  {
   "cell_type": "markdown",
   "id": "80304b84-7133-45df-aa47-cd23382fe94b",
   "metadata": {},
   "source": [
    "Reinforcement Learning ist im Gegensatz zu Supervised und Unsupervised Learning kein klassisches Lernen anhand von statischer Daten, sondern Lernen auf Grund von Feedback einer (dynamischen) Umgebung. Ein Agent wird dabei in eine simulierte Umgebung gesetzt und kann dort Aktionen ausführen, welche wiederum die Umgebung beeinflussen. Ziel des Agenten ist es nun, Belohnungen (\"rewards\") zu sammeln und Bestrafungen (\"punishments\") zu vermeiden. Auf Grund des Feedbacks der Umgebung lernt der Agent so, welche Aktionen er wann ausführen sollte. Ein Beispiel für Reinforcement Learning sind selbstfahrende Autos oder autonome mobile Roboter, aber auch das Spielen eines Videospiels fällt unter diese Kategorie.\n",
    "\n",
    "Im Gegensatz zu den anderen beiden Kategorien ist Reinforcement Learning auf Grund seiner Dynamik deutlich komplexer und wird heutzutage meist mit neuronalen Netzen gelöst. Wir werden in diesem Tutorial nicht weiter auf Reinforcement Learning eingehen."
   ]
  },
  {
   "cell_type": "markdown",
   "id": "6048fce3-7397-49cc-a1b9-e4fffc9a17ca",
   "metadata": {},
   "source": [
    "## Pakete"
   ]
  },
  {
   "cell_type": "markdown",
   "id": "96a4c665-8c89-4436-85e5-e3a9a5feddbc",
   "metadata": {},
   "source": [
    "Wir werden in den folgenden Abschnitten die Pakete\n",
    "\n",
    "* [NumPy](https://numpy.org),\n",
    "* [matplotlib](https://matplotlib.org),\n",
    "* [pandas](https://pandas.pydata.org) und\n",
    "* [scikit-learn](https://scikit-learn.org)\n",
    "\n",
    "verwenden, welche wir deshalb zu nächst importieren. NumPy, pandas und matplotlib werden via alias importiert."
   ]
  },
  {
   "cell_type": "code",
   "execution_count": 2,
   "id": "fddb1a51-0b1e-4742-a3a9-a86090279fe5",
   "metadata": {},
   "outputs": [],
   "source": [
    "import numpy as np\n",
    "import pandas as pd\n",
    "import matplotlib.pyplot as plt\n",
    "import sklearn.datasets"
   ]
  },
  {
   "cell_type": "markdown",
   "id": "06217baf-81c5-4906-922d-7eab06d3bad5",
   "metadata": {},
   "source": [
    "Auf die letzen beiden Pakete werden wir im Laufe dieses Notebooks eingehen."
   ]
  },
  {
   "cell_type": "markdown",
   "id": "820690fd-3f1a-4f58-bbfb-efc3806acb50",
   "metadata": {},
   "source": [
    "# Ein erstes Beispiel Projekt: Iris Dataset"
   ]
  },
  {
   "cell_type": "markdown",
   "id": "d6c33b30-2fe4-4617-89dc-0990be225b9c",
   "metadata": {},
   "source": [
    "Wir wollen uns zur Einführung ein Beispiel zur Klassifikation anschauen. Wir erinnern uns: Klassifikation ist das Einteilen in verschiedene, diskrete Klassen oder Kategorien.\n",
    "\n",
    "Jedes Data Science Projekt beginnt erstmal damit, dass man sich mit dem Datensatz vertraut macht. Dafür müssen wir die Daten natürlich auch einlesen. In diesem konkreten Fall liegen die Daten in Form einer CSV Datei vor, die sich im selben Verzeichnis befindet wie dieses Notebook. Deshalb müssen wir als Dateipfad nur den Namen der Datei inklusive Dateiendung angeben. Unsere Datei trägt den Namen `iris.csv`."
   ]
  },
  {
   "cell_type": "code",
   "execution_count": 31,
   "id": "212b3f63-a688-4403-852e-fd7bd67a1de8",
   "metadata": {},
   "outputs": [],
   "source": [
    "file_path = \"iris.csv\""
   ]
  },
  {
   "cell_type": "markdown",
   "id": "46123c34-953e-4d9d-93c8-848e6ee259b6",
   "metadata": {},
   "source": [
    "Wir könnten jetzt die Datei mit NumPy einlesen, allerdings ist NumPy primär für die Verarbeitung von numerischen Werten geeignet, welche noch dazu alle den selben Datentyp haben müssen. Unsere Datei enthält aber gemischte Datentypen, weshalb hier der Einsatz von `pandas` Sinn ergibt."
   ]
  },
  {
   "cell_type": "markdown",
   "id": "86f215fc-2845-4150-81da-a59f4cd99c45",
   "metadata": {},
   "source": [
    "## Einführung in pandas"
   ]
  },
  {
   "cell_type": "markdown",
   "id": "9133a715-fd0c-4672-9e4c-db85a5674c0e",
   "metadata": {},
   "source": [
    "`pandas` ist eine Python Bibliothek für die Analyse und Verwaltung von strukturierten Daten. Strukturierte Daten sind geordnete, sortierte und zusammengefasste Daten. Wir müssen uns also nicht aus verschiedenen Quellen unsere Daten zusammensuchen und diese in einer Tabelle zusammenführen, da dieser Schritt bereits erledigt wurde.\n",
    "\n",
    "`pandas` unterscheidet grob zwischen zwei Arten von strukturierten Daten: 1D-Daten, also Vektoren, welche mit `Series` verwaltet werden, und 2D-Daten, also Matrizen, welche mit `DataFrames` verwaltet werden. Hierbei stellen die Zeilen die Samples dar und die Spalten die Features, im Falle einer `Series` eben nur ein Feature. Jedes `DataFrame` setzt sich aus mehreren `Series` zusammen. Die Einträge einer `Series` müssen alle den selben Datentyp haben, jedoch können unterschiedliche `Series` auch unterschiedliche Datentypen haben. Der Vorteil eines `DataFrames` gegenüber einem `NumPy` Array besteht also in dem vermischen verschiedener Datentypen innerhalb eines `DataFrames`."
   ]
  },
  {
   "cell_type": "markdown",
   "id": "62db4364-45d5-4015-97a6-1f7efc9b46b9",
   "metadata": {},
   "source": [
    "### Daten einlesen"
   ]
  },
  {
   "cell_type": "markdown",
   "id": "8fa0fcd3-77d4-4401-9d32-a6b850232d08",
   "metadata": {},
   "source": [
    "Zum Einlesen von CSV Dateien stellt `pandas` die Funktion `read_csv` zur Verfügung. Dazu übergeben wir der Funktion den Dateipfad, an dem sich die Datei befindet, und `pandas` erzeugt ein `DataFrame` mit den entsprechenden Einträgen."
   ]
  },
  {
   "cell_type": "code",
   "execution_count": 32,
   "id": "b0e669d0-b92d-4475-9aff-c73484ff10ae",
   "metadata": {},
   "outputs": [],
   "source": [
    "iris_df = pd.read_csv(file_path)"
   ]
  },
  {
   "cell_type": "markdown",
   "id": "b8a53c06-de75-4189-a55b-5d06b6176a66",
   "metadata": {},
   "source": [
    "### Überblick verschaffen"
   ]
  },
  {
   "cell_type": "markdown",
   "id": "a3aa8d01-8df4-4c22-9a84-57d02ca4fc1d",
   "metadata": {},
   "source": [
    "Schauen wir uns doch zunächst einmal die Einträge unseres `DataFrames` an. Wir geben dazu einfach den Variablennamen des `DataFrames` ein und uns werden dann 5 Einträge vom Anfang und Ende angezeigt."
   ]
  },
  {
   "cell_type": "code",
   "execution_count": 33,
   "id": "321d2ed9-3b18-42be-a027-9349576a42a8",
   "metadata": {},
   "outputs": [
    {
     "data": {
      "text/html": [
       "<div>\n",
       "<style scoped>\n",
       "    .dataframe tbody tr th:only-of-type {\n",
       "        vertical-align: middle;\n",
       "    }\n",
       "\n",
       "    .dataframe tbody tr th {\n",
       "        vertical-align: top;\n",
       "    }\n",
       "\n",
       "    .dataframe thead th {\n",
       "        text-align: right;\n",
       "    }\n",
       "</style>\n",
       "<table border=\"1\" class=\"dataframe\">\n",
       "  <thead>\n",
       "    <tr style=\"text-align: right;\">\n",
       "      <th></th>\n",
       "      <th>sepal length (cm)</th>\n",
       "      <th>sepal width (cm)</th>\n",
       "      <th>petal length (cm)</th>\n",
       "      <th>petal width (cm)</th>\n",
       "      <th>target</th>\n",
       "    </tr>\n",
       "  </thead>\n",
       "  <tbody>\n",
       "    <tr>\n",
       "      <th>0</th>\n",
       "      <td>5.1</td>\n",
       "      <td>3.5</td>\n",
       "      <td>1.4</td>\n",
       "      <td>0.2</td>\n",
       "      <td>0</td>\n",
       "    </tr>\n",
       "    <tr>\n",
       "      <th>1</th>\n",
       "      <td>4.9</td>\n",
       "      <td>3.0</td>\n",
       "      <td>1.4</td>\n",
       "      <td>0.2</td>\n",
       "      <td>0</td>\n",
       "    </tr>\n",
       "    <tr>\n",
       "      <th>2</th>\n",
       "      <td>4.7</td>\n",
       "      <td>3.2</td>\n",
       "      <td>1.3</td>\n",
       "      <td>0.2</td>\n",
       "      <td>0</td>\n",
       "    </tr>\n",
       "    <tr>\n",
       "      <th>3</th>\n",
       "      <td>4.6</td>\n",
       "      <td>3.1</td>\n",
       "      <td>1.5</td>\n",
       "      <td>0.2</td>\n",
       "      <td>0</td>\n",
       "    </tr>\n",
       "    <tr>\n",
       "      <th>4</th>\n",
       "      <td>5.0</td>\n",
       "      <td>3.6</td>\n",
       "      <td>1.4</td>\n",
       "      <td>0.2</td>\n",
       "      <td>0</td>\n",
       "    </tr>\n",
       "    <tr>\n",
       "      <th>...</th>\n",
       "      <td>...</td>\n",
       "      <td>...</td>\n",
       "      <td>...</td>\n",
       "      <td>...</td>\n",
       "      <td>...</td>\n",
       "    </tr>\n",
       "    <tr>\n",
       "      <th>145</th>\n",
       "      <td>6.7</td>\n",
       "      <td>3.0</td>\n",
       "      <td>5.2</td>\n",
       "      <td>2.3</td>\n",
       "      <td>2</td>\n",
       "    </tr>\n",
       "    <tr>\n",
       "      <th>146</th>\n",
       "      <td>6.3</td>\n",
       "      <td>2.5</td>\n",
       "      <td>5.0</td>\n",
       "      <td>1.9</td>\n",
       "      <td>2</td>\n",
       "    </tr>\n",
       "    <tr>\n",
       "      <th>147</th>\n",
       "      <td>6.5</td>\n",
       "      <td>3.0</td>\n",
       "      <td>5.2</td>\n",
       "      <td>2.0</td>\n",
       "      <td>2</td>\n",
       "    </tr>\n",
       "    <tr>\n",
       "      <th>148</th>\n",
       "      <td>6.2</td>\n",
       "      <td>3.4</td>\n",
       "      <td>5.4</td>\n",
       "      <td>2.3</td>\n",
       "      <td>2</td>\n",
       "    </tr>\n",
       "    <tr>\n",
       "      <th>149</th>\n",
       "      <td>5.9</td>\n",
       "      <td>3.0</td>\n",
       "      <td>5.1</td>\n",
       "      <td>1.8</td>\n",
       "      <td>2</td>\n",
       "    </tr>\n",
       "  </tbody>\n",
       "</table>\n",
       "<p>150 rows × 5 columns</p>\n",
       "</div>"
      ],
      "text/plain": [
       "     sepal length (cm)  sepal width (cm)  petal length (cm)  petal width (cm)  \\\n",
       "0                  5.1               3.5                1.4               0.2   \n",
       "1                  4.9               3.0                1.4               0.2   \n",
       "2                  4.7               3.2                1.3               0.2   \n",
       "3                  4.6               3.1                1.5               0.2   \n",
       "4                  5.0               3.6                1.4               0.2   \n",
       "..                 ...               ...                ...               ...   \n",
       "145                6.7               3.0                5.2               2.3   \n",
       "146                6.3               2.5                5.0               1.9   \n",
       "147                6.5               3.0                5.2               2.0   \n",
       "148                6.2               3.4                5.4               2.3   \n",
       "149                5.9               3.0                5.1               1.8   \n",
       "\n",
       "     target  \n",
       "0         0  \n",
       "1         0  \n",
       "2         0  \n",
       "3         0  \n",
       "4         0  \n",
       "..      ...  \n",
       "145       2  \n",
       "146       2  \n",
       "147       2  \n",
       "148       2  \n",
       "149       2  \n",
       "\n",
       "[150 rows x 5 columns]"
      ]
     },
     "execution_count": 33,
     "metadata": {},
     "output_type": "execute_result"
    }
   ],
   "source": [
    "iris_df"
   ]
  },
  {
   "cell_type": "markdown",
   "id": "48e810fc-ab33-4aec-8a8d-c97e26d858d1",
   "metadata": {},
   "source": [
    "Mit der Funktion `head` erhalten wir nur den ,,Kopf\" des `DataFrames`"
   ]
  },
  {
   "cell_type": "code",
   "execution_count": 34,
   "id": "c3ebcd5b-695d-46b4-9708-3df8adf41fc3",
   "metadata": {},
   "outputs": [
    {
     "data": {
      "text/html": [
       "<div>\n",
       "<style scoped>\n",
       "    .dataframe tbody tr th:only-of-type {\n",
       "        vertical-align: middle;\n",
       "    }\n",
       "\n",
       "    .dataframe tbody tr th {\n",
       "        vertical-align: top;\n",
       "    }\n",
       "\n",
       "    .dataframe thead th {\n",
       "        text-align: right;\n",
       "    }\n",
       "</style>\n",
       "<table border=\"1\" class=\"dataframe\">\n",
       "  <thead>\n",
       "    <tr style=\"text-align: right;\">\n",
       "      <th></th>\n",
       "      <th>sepal length (cm)</th>\n",
       "      <th>sepal width (cm)</th>\n",
       "      <th>petal length (cm)</th>\n",
       "      <th>petal width (cm)</th>\n",
       "      <th>target</th>\n",
       "    </tr>\n",
       "  </thead>\n",
       "  <tbody>\n",
       "    <tr>\n",
       "      <th>0</th>\n",
       "      <td>5.1</td>\n",
       "      <td>3.5</td>\n",
       "      <td>1.4</td>\n",
       "      <td>0.2</td>\n",
       "      <td>0</td>\n",
       "    </tr>\n",
       "    <tr>\n",
       "      <th>1</th>\n",
       "      <td>4.9</td>\n",
       "      <td>3.0</td>\n",
       "      <td>1.4</td>\n",
       "      <td>0.2</td>\n",
       "      <td>0</td>\n",
       "    </tr>\n",
       "    <tr>\n",
       "      <th>2</th>\n",
       "      <td>4.7</td>\n",
       "      <td>3.2</td>\n",
       "      <td>1.3</td>\n",
       "      <td>0.2</td>\n",
       "      <td>0</td>\n",
       "    </tr>\n",
       "    <tr>\n",
       "      <th>3</th>\n",
       "      <td>4.6</td>\n",
       "      <td>3.1</td>\n",
       "      <td>1.5</td>\n",
       "      <td>0.2</td>\n",
       "      <td>0</td>\n",
       "    </tr>\n",
       "    <tr>\n",
       "      <th>4</th>\n",
       "      <td>5.0</td>\n",
       "      <td>3.6</td>\n",
       "      <td>1.4</td>\n",
       "      <td>0.2</td>\n",
       "      <td>0</td>\n",
       "    </tr>\n",
       "  </tbody>\n",
       "</table>\n",
       "</div>"
      ],
      "text/plain": [
       "   sepal length (cm)  sepal width (cm)  petal length (cm)  petal width (cm)  \\\n",
       "0                5.1               3.5                1.4               0.2   \n",
       "1                4.9               3.0                1.4               0.2   \n",
       "2                4.7               3.2                1.3               0.2   \n",
       "3                4.6               3.1                1.5               0.2   \n",
       "4                5.0               3.6                1.4               0.2   \n",
       "\n",
       "   target  \n",
       "0       0  \n",
       "1       0  \n",
       "2       0  \n",
       "3       0  \n",
       "4       0  "
      ]
     },
     "execution_count": 34,
     "metadata": {},
     "output_type": "execute_result"
    }
   ],
   "source": [
    "iris_df.head()"
   ]
  },
  {
   "cell_type": "markdown",
   "id": "2e93e904-f232-4a30-8169-bf32a7bfbe60",
   "metadata": {},
   "source": [
    "Wie wir sehen enthält unser Datensatz 150 Einträge mit 5 Spalten. Die ersten 4 Spalten sind unsere Features, die 5. Spalte ist unser Ziel. Mit der Funktion `describe` erhalten wir die wichtigsten statistischen Kennwerte unseres Datensatzes, wie Anzahl, Mittelwert und auch Standardabweichung."
   ]
  },
  {
   "cell_type": "code",
   "execution_count": 35,
   "id": "a14685a6-56db-48ec-a4a9-0b7a8d9d7fcf",
   "metadata": {},
   "outputs": [
    {
     "data": {
      "text/html": [
       "<div>\n",
       "<style scoped>\n",
       "    .dataframe tbody tr th:only-of-type {\n",
       "        vertical-align: middle;\n",
       "    }\n",
       "\n",
       "    .dataframe tbody tr th {\n",
       "        vertical-align: top;\n",
       "    }\n",
       "\n",
       "    .dataframe thead th {\n",
       "        text-align: right;\n",
       "    }\n",
       "</style>\n",
       "<table border=\"1\" class=\"dataframe\">\n",
       "  <thead>\n",
       "    <tr style=\"text-align: right;\">\n",
       "      <th></th>\n",
       "      <th>sepal length (cm)</th>\n",
       "      <th>sepal width (cm)</th>\n",
       "      <th>petal length (cm)</th>\n",
       "      <th>petal width (cm)</th>\n",
       "      <th>target</th>\n",
       "    </tr>\n",
       "  </thead>\n",
       "  <tbody>\n",
       "    <tr>\n",
       "      <th>count</th>\n",
       "      <td>150.000000</td>\n",
       "      <td>150.000000</td>\n",
       "      <td>150.000000</td>\n",
       "      <td>150.000000</td>\n",
       "      <td>150.000000</td>\n",
       "    </tr>\n",
       "    <tr>\n",
       "      <th>mean</th>\n",
       "      <td>5.843333</td>\n",
       "      <td>3.057333</td>\n",
       "      <td>3.758000</td>\n",
       "      <td>1.199333</td>\n",
       "      <td>1.000000</td>\n",
       "    </tr>\n",
       "    <tr>\n",
       "      <th>std</th>\n",
       "      <td>0.828066</td>\n",
       "      <td>0.435866</td>\n",
       "      <td>1.765298</td>\n",
       "      <td>0.762238</td>\n",
       "      <td>0.819232</td>\n",
       "    </tr>\n",
       "    <tr>\n",
       "      <th>min</th>\n",
       "      <td>4.300000</td>\n",
       "      <td>2.000000</td>\n",
       "      <td>1.000000</td>\n",
       "      <td>0.100000</td>\n",
       "      <td>0.000000</td>\n",
       "    </tr>\n",
       "    <tr>\n",
       "      <th>25%</th>\n",
       "      <td>5.100000</td>\n",
       "      <td>2.800000</td>\n",
       "      <td>1.600000</td>\n",
       "      <td>0.300000</td>\n",
       "      <td>0.000000</td>\n",
       "    </tr>\n",
       "    <tr>\n",
       "      <th>50%</th>\n",
       "      <td>5.800000</td>\n",
       "      <td>3.000000</td>\n",
       "      <td>4.350000</td>\n",
       "      <td>1.300000</td>\n",
       "      <td>1.000000</td>\n",
       "    </tr>\n",
       "    <tr>\n",
       "      <th>75%</th>\n",
       "      <td>6.400000</td>\n",
       "      <td>3.300000</td>\n",
       "      <td>5.100000</td>\n",
       "      <td>1.800000</td>\n",
       "      <td>2.000000</td>\n",
       "    </tr>\n",
       "    <tr>\n",
       "      <th>max</th>\n",
       "      <td>7.900000</td>\n",
       "      <td>4.400000</td>\n",
       "      <td>6.900000</td>\n",
       "      <td>2.500000</td>\n",
       "      <td>2.000000</td>\n",
       "    </tr>\n",
       "  </tbody>\n",
       "</table>\n",
       "</div>"
      ],
      "text/plain": [
       "       sepal length (cm)  sepal width (cm)  petal length (cm)  \\\n",
       "count         150.000000        150.000000         150.000000   \n",
       "mean            5.843333          3.057333           3.758000   \n",
       "std             0.828066          0.435866           1.765298   \n",
       "min             4.300000          2.000000           1.000000   \n",
       "25%             5.100000          2.800000           1.600000   \n",
       "50%             5.800000          3.000000           4.350000   \n",
       "75%             6.400000          3.300000           5.100000   \n",
       "max             7.900000          4.400000           6.900000   \n",
       "\n",
       "       petal width (cm)      target  \n",
       "count        150.000000  150.000000  \n",
       "mean           1.199333    1.000000  \n",
       "std            0.762238    0.819232  \n",
       "min            0.100000    0.000000  \n",
       "25%            0.300000    0.000000  \n",
       "50%            1.300000    1.000000  \n",
       "75%            1.800000    2.000000  \n",
       "max            2.500000    2.000000  "
      ]
     },
     "execution_count": 35,
     "metadata": {},
     "output_type": "execute_result"
    }
   ],
   "source": [
    "iris_df.describe()"
   ]
  },
  {
   "cell_type": "markdown",
   "id": "1440a9f6-5b75-46b0-9117-036cb28a0de2",
   "metadata": {},
   "source": [
    "\\pagebreak"
   ]
  },
  {
   "cell_type": "markdown",
   "id": "996a4206-08a7-441f-abd6-3376d47a962a",
   "metadata": {},
   "source": [
    "# Literaturverzeichnis"
   ]
  },
  {
   "cell_type": "markdown",
   "id": "4f1aa71b-1cd1-445e-b7ca-6a6673ee82b3",
   "metadata": {},
   "source": [
    "[<sup id=\"fn1\">[1]</sup>](#fn1-back) *Mitchell, Tom M.*: Machine Learning, New York: McGraw-Hill, 1997, S. 2"
   ]
  }
 ],
 "metadata": {
  "authors": [
   {
    "name": "Maximilian Schnadt"
   }
  ],
  "ipub": {
   "listfigures": true,
   "listtables": true,
   "toc": true
  },
  "kernelspec": {
   "display_name": "Python 3 (ipykernel)",
   "language": "python",
   "name": "python3"
  },
  "language_info": {
   "codemirror_mode": {
    "name": "ipython",
    "version": 3
   },
   "file_extension": ".py",
   "mimetype": "text/x-python",
   "name": "python",
   "nbconvert_exporter": "python",
   "pygments_lexer": "ipython3",
   "version": "3.8.12"
  }
 },
 "nbformat": 4,
 "nbformat_minor": 5
}
