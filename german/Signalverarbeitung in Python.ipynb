{
 "cells": [
  {
   "cell_type": "markdown",
   "id": "2dc1d6b9-4e8c-4531-ac37-432c19b6a8a1",
   "metadata": {},
   "source": [
    "# Signalverarbeitung in Python"
   ]
  },
  {
   "cell_type": "markdown",
   "id": "48fd8aaa-637b-4075-856d-bb1cdc2a830a",
   "metadata": {},
   "source": [
    "Kommen wir nun zum dritten und letzten Teil dieses Tutorials. Während wir in Teil 2 die grundsätzlichen Bibliotheken für Scientific Computing eingegangen sind, werden wir uns nun einer ganzen Palette von Techniken zuwenden, welche uns bei der Signalverarbeitung helfen."
   ]
  },
  {
   "cell_type": "markdown",
   "id": "f0648d36-5fcd-4a70-93ec-fcf6385f542b",
   "metadata": {},
   "source": [
    "## Pakete und Tools"
   ]
  },
  {
   "cell_type": "markdown",
   "id": "3b1c8e43-a2b2-483d-b650-ca13e5180a0d",
   "metadata": {},
   "source": [
    "Im vorherigen Teil haben wir die Bibliotheken `numpy`, `matplotlib` und `scipy` kennengelernt. Mit diesen allein lässt sich schon vieles erreichen und sie bilden auch die Grundlage für viele weitere Bibliotheken. Wir wollen nun aber für die Signalverarbeitung noch weitere nützliche Bibliotheken und Techniken nutzen, wobei nicht jede ausführlich vorgestellt wird. Hier eine (unvollständige) Auflistung weiterer wichtiger Bibliotheken, denen wir begegen werden:\n",
    "\n",
    "> `librosa` : Verarbeitung von Audio- und Musiksignalen  \n",
    "> `commpy` : Digitale Kommunikationsalgorithmen und -verfahren  \n",
    "> `scikit-learn` : Machine Learning Algorithmen\n",
    "\n",
    "Diese werden wir auch installieren und importieren."
   ]
  },
  {
   "cell_type": "code",
   "execution_count": null,
   "id": "ab2e6e68-df73-47a5-b23e-30dde2a91fd7",
   "metadata": {},
   "outputs": [],
   "source": [
    "import librosa\n",
    "import commpy\n",
    "import sklearn"
   ]
  }
 ],
 "metadata": {
  "kernelspec": {
   "display_name": "Python 3 (ipykernel)",
   "language": "python",
   "name": "python3"
  },
  "language_info": {
   "codemirror_mode": {
    "name": "ipython",
    "version": 3
   },
   "file_extension": ".py",
   "mimetype": "text/x-python",
   "name": "python",
   "nbconvert_exporter": "python",
   "pygments_lexer": "ipython3",
   "version": "3.8.12"
  }
 },
 "nbformat": 4,
 "nbformat_minor": 5
}
