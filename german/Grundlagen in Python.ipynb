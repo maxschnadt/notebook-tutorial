{
 "cells": [
  {
   "cell_type": "markdown",
   "id": "32917830-5d21-40d9-9b61-76db1abe3886",
   "metadata": {},
   "source": [
    "\\tableofcontents  \n",
    "\\pagebreak"
   ]
  },
  {
   "cell_type": "markdown",
   "id": "european-cycling",
   "metadata": {
    "tags": []
   },
   "source": [
    "# Einführung in Python"
   ]
  },
  {
   "cell_type": "markdown",
   "id": "israeli-stake",
   "metadata": {},
   "source": [
    "Wichtige Eigenschaften von Python:\n",
    "\n",
    "- Interpretiert statt kompiliert\n",
    "- Dynamische Typisierung (\"Duck\"-Typing)\n",
    "- Unterstützt objektorientierte und funktionale Programmierung\n",
    "- Blöcke werden durch Einrücken statt durch Klammern begrenzt\n",
    "- Einfache Erweiterbarkeit durch externe Bibliotheken"
   ]
  },
  {
   "cell_type": "markdown",
   "id": "criminal-observer",
   "metadata": {},
   "source": [
    "Die wichtigsten Prinzipien von Python lassen sich auch direkt mit dem Kommando `import this` ausgeben."
   ]
  },
  {
   "cell_type": "code",
   "execution_count": 1,
   "id": "cordless-dominican",
   "metadata": {},
   "outputs": [
    {
     "name": "stdout",
     "output_type": "stream",
     "text": [
      "The Zen of Python, by Tim Peters\n",
      "\n",
      "Beautiful is better than ugly.\n",
      "Explicit is better than implicit.\n",
      "Simple is better than complex.\n",
      "Complex is better than complicated.\n",
      "Flat is better than nested.\n",
      "Sparse is better than dense.\n",
      "Readability counts.\n",
      "Special cases aren't special enough to break the rules.\n",
      "Although practicality beats purity.\n",
      "Errors should never pass silently.\n",
      "Unless explicitly silenced.\n",
      "In the face of ambiguity, refuse the temptation to guess.\n",
      "There should be one-- and preferably only one --obvious way to do it.\n",
      "Although that way may not be obvious at first unless you're Dutch.\n",
      "Now is better than never.\n",
      "Although never is often better than *right* now.\n",
      "If the implementation is hard to explain, it's a bad idea.\n",
      "If the implementation is easy to explain, it may be a good idea.\n",
      "Namespaces are one honking great idea -- let's do more of those!\n"
     ]
    }
   ],
   "source": [
    "import this"
   ]
  },
  {
   "cell_type": "markdown",
   "id": "selective-january",
   "metadata": {},
   "source": [
    "# Arbeiten mit Variablen"
   ]
  },
  {
   "cell_type": "markdown",
   "id": "blond-passing",
   "metadata": {},
   "source": [
    "## Variablen und Datentypen"
   ]
  },
  {
   "cell_type": "markdown",
   "id": "interesting-fellowship",
   "metadata": {},
   "source": [
    "### Deklaration"
   ]
  },
  {
   "cell_type": "markdown",
   "id": "integral-gasoline",
   "metadata": {},
   "source": [
    "Variablen werden mit `=` deklariert oder auch neu zugewiesen. Auf Grund der dynamische Typisierung muss dabei nicht der Typ angegeben werden."
   ]
  },
  {
   "cell_type": "code",
   "execution_count": 2,
   "id": "color-mineral",
   "metadata": {},
   "outputs": [],
   "source": [
    "spam = 3 # Integer\n",
    "eggs = \"abc\" # String"
   ]
  },
  {
   "cell_type": "markdown",
   "id": "special-keyboard",
   "metadata": {},
   "source": [
    "Ebenfalls können Variablen ohne weiteres einem anderen Wert mit einem anderen Typ zugewiesen werden."
   ]
  },
  {
   "cell_type": "code",
   "execution_count": 3,
   "id": "empirical-preparation",
   "metadata": {},
   "outputs": [],
   "source": [
    "ham = 32.0 # Float\n",
    "ham = True # Boolean"
   ]
  },
  {
   "cell_type": "markdown",
   "id": "neither-methodology",
   "metadata": {},
   "source": [
    "### Elementare Datentypen"
   ]
  },
  {
   "cell_type": "markdown",
   "id": "universal-development",
   "metadata": {},
   "source": [
    "Die wichtigsten elementaren Datentypen sind:"
   ]
  },
  {
   "cell_type": "markdown",
   "id": "going-humor",
   "metadata": {},
   "source": [
    "| Bezeichnung    \t| Python-Schlüsselwort \t|          Code Beispiel         \t|\n",
    "|:----------------:\t|:--------------------:\t|:------------------------------:\t|\n",
    "| Ganzzahl       \t|          int         \t|               `4`              \t|\n",
    "| Gleitkommazahl \t|         float        \t|             `3.22`             \t|\n",
    "| Wörter         \t|        string        \t|             `\"Ham\"`            \t|\n",
    "| Feld           \t|         list         \t|          `[3, 2, \"a\"]`         \t|\n",
    "| Wörterbuch     \t|         dict         \t| `{\"name\" : \"Max\", \"age\" : 26}` \t|\n",
    "| Tupel          \t|         tuple        \t|           `(1, 2, 3)`          \t|"
   ]
  },
  {
   "cell_type": "markdown",
   "id": "organizational-gauge",
   "metadata": {},
   "source": [
    "### Inhalt und Typ einer Variablen"
   ]
  },
  {
   "cell_type": "markdown",
   "id": "prospective-conducting",
   "metadata": {},
   "source": [
    "Der Inhalt einer Variablen kann via `print()` ausgegeben werden."
   ]
  },
  {
   "cell_type": "code",
   "execution_count": 4,
   "id": "artificial-cookie",
   "metadata": {},
   "outputs": [
    {
     "name": "stdout",
     "output_type": "stream",
     "text": [
      "Oh dear\n"
     ]
    }
   ],
   "source": [
    "eggs = \"Oh dear\"\n",
    "print(eggs)"
   ]
  },
  {
   "cell_type": "markdown",
   "id": "specialized-punishment",
   "metadata": {},
   "source": [
    "Der Typ einer Variablen kann via `type()` ausgegeben werden."
   ]
  },
  {
   "cell_type": "code",
   "execution_count": 5,
   "id": "organizational-carter",
   "metadata": {},
   "outputs": [
    {
     "data": {
      "text/plain": [
       "bool"
      ]
     },
     "execution_count": 5,
     "metadata": {},
     "output_type": "execute_result"
    }
   ],
   "source": [
    "eggs = True\n",
    "type(eggs)"
   ]
  },
  {
   "cell_type": "markdown",
   "id": "center-coffee",
   "metadata": {},
   "source": [
    "### In-Place Änderung"
   ]
  },
  {
   "cell_type": "markdown",
   "id": "therapeutic-bradley",
   "metadata": {},
   "source": [
    "Variablen können direkt im Speicher verändert werden (\"In-Place\" Änderung), indem die Zuweisung direkt die gewünschte Operation enthält."
   ]
  },
  {
   "cell_type": "code",
   "execution_count": 6,
   "id": "executive-consumer",
   "metadata": {},
   "outputs": [
    {
     "data": {
      "text/plain": [
       "1"
      ]
     },
     "execution_count": 6,
     "metadata": {},
     "output_type": "execute_result"
    }
   ],
   "source": [
    "x = 2\n",
    "x = x - 1\n",
    "x"
   ]
  },
  {
   "cell_type": "markdown",
   "id": "psychological-halifax",
   "metadata": {},
   "source": [
    "## Arbeiten mit numerischen Datentypen"
   ]
  },
  {
   "cell_type": "markdown",
   "id": "similar-humidity",
   "metadata": {},
   "source": [
    "### Elementare Rechenoperationen"
   ]
  },
  {
   "cell_type": "markdown",
   "id": "prescribed-sellers",
   "metadata": {},
   "source": [
    "Numerische Datentypen können mit den bekannten Rechenoperationen `+`,`-`,`*` und `/` verändert werden."
   ]
  },
  {
   "cell_type": "code",
   "execution_count": 7,
   "id": "exempt-transaction",
   "metadata": {},
   "outputs": [
    {
     "data": {
      "text/plain": [
       "1"
      ]
     },
     "execution_count": 7,
     "metadata": {},
     "output_type": "execute_result"
    }
   ],
   "source": [
    "x = 3\n",
    "x - 2"
   ]
  },
  {
   "cell_type": "code",
   "execution_count": 8,
   "id": "handled-communist",
   "metadata": {},
   "outputs": [
    {
     "data": {
      "text/plain": [
       "10.0"
      ]
     },
     "execution_count": 8,
     "metadata": {},
     "output_type": "execute_result"
    }
   ],
   "source": [
    "x = 5.0\n",
    "x * 2"
   ]
  },
  {
   "cell_type": "markdown",
   "id": "stone-reserve",
   "metadata": {},
   "source": [
    "### Automatische Integer Konvertierung"
   ]
  },
  {
   "cell_type": "markdown",
   "id": "characteristic-queensland",
   "metadata": {},
   "source": [
    "Integers werden direkt zu Floats umgewandelt, wenn die Formel einen Float enthält oder das Ergebnis nur als Float darstellbar ist."
   ]
  },
  {
   "cell_type": "code",
   "execution_count": 9,
   "id": "expected-lincoln",
   "metadata": {},
   "outputs": [
    {
     "data": {
      "text/plain": [
       "5.0"
      ]
     },
     "execution_count": 9,
     "metadata": {},
     "output_type": "execute_result"
    }
   ],
   "source": [
    "spam = 25\n",
    "ham = 5.0\n",
    "spam / ham"
   ]
  },
  {
   "cell_type": "code",
   "execution_count": 10,
   "id": "competitive-italic",
   "metadata": {},
   "outputs": [
    {
     "data": {
      "text/plain": [
       "12.5"
      ]
     },
     "execution_count": 10,
     "metadata": {},
     "output_type": "execute_result"
    }
   ],
   "source": [
    "spam = 25\n",
    "eggs = 2\n",
    "spam / eggs"
   ]
  },
  {
   "cell_type": "markdown",
   "id": "wanted-peripheral",
   "metadata": {},
   "source": [
    "Um zu verhinden, dass bei einer Operation von zwei Integers ein Float rauskommt, muss der `//` Operator verwendet werden, wobei nur der ganzzahlige Teil des Ergebnisses ausgeben wird."
   ]
  },
  {
   "cell_type": "code",
   "execution_count": 11,
   "id": "inner-columbus",
   "metadata": {},
   "outputs": [
    {
     "data": {
      "text/plain": [
       "2"
      ]
     },
     "execution_count": 11,
     "metadata": {},
     "output_type": "execute_result"
    }
   ],
   "source": [
    "x = 5\n",
    "y = 2\n",
    "x // y"
   ]
  },
  {
   "cell_type": "markdown",
   "id": "running-spelling",
   "metadata": {},
   "source": [
    "Mit dem `%` Operator erhält man wiederum den Rest."
   ]
  },
  {
   "cell_type": "code",
   "execution_count": 12,
   "id": "brave-electronics",
   "metadata": {},
   "outputs": [
    {
     "data": {
      "text/plain": [
       "1"
      ]
     },
     "execution_count": 12,
     "metadata": {},
     "output_type": "execute_result"
    }
   ],
   "source": [
    "x = 5\n",
    "y = 2\n",
    "x % y # 5 % 2"
   ]
  },
  {
   "cell_type": "markdown",
   "id": "suffering-belize",
   "metadata": {},
   "source": [
    "### Logische Operationen"
   ]
  },
  {
   "cell_type": "markdown",
   "id": "frequent-apparel",
   "metadata": {},
   "source": [
    "Mit Hilfe von `<`, `>`, `==` und `!=` können numerische Werte verglichen werden."
   ]
  },
  {
   "cell_type": "code",
   "execution_count": 13,
   "id": "solar-wallet",
   "metadata": {},
   "outputs": [
    {
     "data": {
      "text/plain": [
       "False"
      ]
     },
     "execution_count": 13,
     "metadata": {},
     "output_type": "execute_result"
    }
   ],
   "source": [
    "x = 3\n",
    "y = 4\n",
    "x > y # 3 > 4"
   ]
  },
  {
   "cell_type": "code",
   "execution_count": 14,
   "id": "convinced-adams",
   "metadata": {},
   "outputs": [
    {
     "data": {
      "text/plain": [
       "True"
      ]
     },
     "execution_count": 14,
     "metadata": {},
     "output_type": "execute_result"
    }
   ],
   "source": [
    "x = 5\n",
    "y = 2\n",
    "x != y # 5 != 2"
   ]
  },
  {
   "cell_type": "markdown",
   "id": "suited-adelaide",
   "metadata": {},
   "source": [
    "### Erweiterte Rechenoperationen"
   ]
  },
  {
   "cell_type": "markdown",
   "id": "matched-natural",
   "metadata": {},
   "source": [
    "Durch den Operator `**` lässt sich eine Zahl potenzieren, wobei der Ausdruck dann die Form `Basis ** Exponent` hat."
   ]
  },
  {
   "cell_type": "code",
   "execution_count": 15,
   "id": "coral-breath",
   "metadata": {},
   "outputs": [
    {
     "data": {
      "text/plain": [
       "1728"
      ]
     },
     "execution_count": 15,
     "metadata": {},
     "output_type": "execute_result"
    }
   ],
   "source": [
    "z = 12\n",
    "w = 3\n",
    "z ** w # 12 ** 3"
   ]
  },
  {
   "cell_type": "markdown",
   "id": "proud-plymouth",
   "metadata": {},
   "source": [
    "Mehr Rechenoperationen lassen sich durch (externe) Bibliotheken einbinden, dazu später mehr."
   ]
  },
  {
   "cell_type": "markdown",
   "id": "opening-accessory",
   "metadata": {},
   "source": [
    "## Behälter als Datentypen"
   ]
  },
  {
   "cell_type": "markdown",
   "id": "conventional-tablet",
   "metadata": {},
   "source": [
    "Listen und Dictionaries können als Container für andere Objekte aufgefasst werden, enthalten also selbst wieder andere Variablen und Datentypen. Wir beschäftigen uns zunächst nur mit Listen."
   ]
  },
  {
   "cell_type": "markdown",
   "id": "departmental-ceremony",
   "metadata": {},
   "source": [
    "### Listen"
   ]
  },
  {
   "cell_type": "markdown",
   "id": "promotional-joyce",
   "metadata": {},
   "source": [
    "Listen beginnen und enden immer mit einer eckigen Klammer `[]`. Der Inhalt wird zwischen die eckigen Klammern geschrieben und durch Kommata getrennt."
   ]
  },
  {
   "cell_type": "code",
   "execution_count": 16,
   "id": "inappropriate-motion",
   "metadata": {},
   "outputs": [
    {
     "data": {
      "text/plain": [
       "[2, 3, 4]"
      ]
     },
     "execution_count": 16,
     "metadata": {},
     "output_type": "execute_result"
    }
   ],
   "source": [
    "x = [2, 3, 4]\n",
    "x"
   ]
  },
  {
   "cell_type": "markdown",
   "id": "authorized-native",
   "metadata": {},
   "source": [
    "Listen können jeglichen Inhalt aufnehmen, beispielsweise Variablen, elementare Datentypen oder auch andere Listen."
   ]
  },
  {
   "cell_type": "code",
   "execution_count": 17,
   "id": "local-extra",
   "metadata": {},
   "outputs": [
    {
     "data": {
      "text/plain": [
       "[2, 'a', True]"
      ]
     },
     "execution_count": 17,
     "metadata": {},
     "output_type": "execute_result"
    }
   ],
   "source": [
    "y = True\n",
    "x = [2, \"a\", y]\n",
    "x"
   ]
  },
  {
   "cell_type": "code",
   "execution_count": 18,
   "id": "cfd702e6-0a77-4e43-beef-79a545bee41d",
   "metadata": {},
   "outputs": [
    {
     "data": {
      "text/plain": [
       "[2, '\"a\"', 3]"
      ]
     },
     "execution_count": 18,
     "metadata": {},
     "output_type": "execute_result"
    }
   ],
   "source": [
    "y = 3\n",
    "x = [2, '\"a\"', y]\n",
    "x"
   ]
  },
  {
   "cell_type": "code",
   "execution_count": 19,
   "id": "meaningful-dispute",
   "metadata": {},
   "outputs": [
    {
     "data": {
      "text/plain": [
       "['spam', 25.0, [2, 4, 1]]"
      ]
     },
     "execution_count": 19,
     "metadata": {},
     "output_type": "execute_result"
    }
   ],
   "source": [
    "x = [\"spam\", 25.0, [2, 4, 1]]\n",
    "x"
   ]
  },
  {
   "cell_type": "markdown",
   "id": "changing-protection",
   "metadata": {},
   "source": [
    "### Listen Inhalte abrufen"
   ]
  },
  {
   "cell_type": "markdown",
   "id": "comprehensive-slovak",
   "metadata": {},
   "source": [
    "Listen sind geordnete Datenstrukturen, Inhalte werden also über ihre Position in der List addressiert. Hierzu wird die Index-Schreibweise verwendet, welche die Form `Listenname[Index]` hat. Der erste Eintrag in einer Liste hat den Index 0, der nächste Eintrag (rechts) daneben den Index 1 usw."
   ]
  },
  {
   "cell_type": "code",
   "execution_count": 20,
   "id": "beautiful-occasion",
   "metadata": {},
   "outputs": [
    {
     "data": {
      "text/plain": [
       "2"
      ]
     },
     "execution_count": 20,
     "metadata": {},
     "output_type": "execute_result"
    }
   ],
   "source": [
    "x = [2, 4, \"a\"]\n",
    "x[0]"
   ]
  },
  {
   "cell_type": "markdown",
   "id": "traditional-suffering",
   "metadata": {},
   "source": [
    "Die Inhalte einer Liste können auch von hinten indiziert werden, wobei der letzte Eintrag einer Liste den Index -1 hat, der nächste Eintrag (links) daneben den Index -2 usw."
   ]
  },
  {
   "cell_type": "code",
   "execution_count": 21,
   "id": "eleven-sense",
   "metadata": {},
   "outputs": [
    {
     "data": {
      "text/plain": [
       "'a'"
      ]
     },
     "execution_count": 21,
     "metadata": {},
     "output_type": "execute_result"
    }
   ],
   "source": [
    "x = [2, 4, \"a\", \"spam\"]\n",
    "x[-2]"
   ]
  },
  {
   "cell_type": "markdown",
   "id": "caroline-burst",
   "metadata": {},
   "source": [
    "Um mehrere Elemente einer Liste abzurufen gibt man als Index einen Start- und einen End-Index an, in dessen Bereich man alle Elemente abrufen möchte. Der End-Index wird dabei als ausschließende Grenze verstanden, das Element an dieser Stelle wird also nicht mit abgerufen."
   ]
  },
  {
   "cell_type": "code",
   "execution_count": 22,
   "id": "essential-victim",
   "metadata": {},
   "outputs": [
    {
     "data": {
      "text/plain": [
       "[8, 9]"
      ]
     },
     "execution_count": 22,
     "metadata": {},
     "output_type": "execute_result"
    }
   ],
   "source": [
    "x = [6, 8, 9, 3, \"a\"]\n",
    "x[1:3]"
   ]
  },
  {
   "cell_type": "markdown",
   "id": "continental-boring",
   "metadata": {},
   "source": [
    "### Inhalte einer Liste modifizieren"
   ]
  },
  {
   "cell_type": "markdown",
   "id": "better-representation",
   "metadata": {},
   "source": [
    "Um den Inhalt einer Liste zu modizieren verwendet man wieder die Index-Schreibweise und weist dem Element einen neuen Wert zu."
   ]
  },
  {
   "cell_type": "code",
   "execution_count": 23,
   "id": "liquid-mustang",
   "metadata": {},
   "outputs": [
    {
     "data": {
      "text/plain": [
       "[2, 5, 8, 9]"
      ]
     },
     "execution_count": 23,
     "metadata": {},
     "output_type": "execute_result"
    }
   ],
   "source": [
    "x = [2, 5, 8, 13]\n",
    "x[3] = 9\n",
    "x"
   ]
  },
  {
   "cell_type": "markdown",
   "id": "compound-gothic",
   "metadata": {},
   "source": [
    "### Einer Liste Inhalte hinzufügen"
   ]
  },
  {
   "cell_type": "markdown",
   "id": "suffering-blake",
   "metadata": {},
   "source": [
    "Um einer Liste Inhalte hinzuzufügen, ruft man die Methode `.append()` der Liste auf. Hierdurch wird am Ende der jeweiligen Liste das Element hinzugefügt. Auf Methoden und Funktionen kommen wir später noch zu sprechen."
   ]
  },
  {
   "cell_type": "code",
   "execution_count": 24,
   "id": "interested-possession",
   "metadata": {},
   "outputs": [
    {
     "data": {
      "text/plain": [
       "[2, 4, 'a', 'b']"
      ]
     },
     "execution_count": 24,
     "metadata": {},
     "output_type": "execute_result"
    }
   ],
   "source": [
    "x = [2, 4, \"a\"]\n",
    "x.append(\"b\")\n",
    "x"
   ]
  },
  {
   "cell_type": "markdown",
   "id": "abroad-noise",
   "metadata": {},
   "source": [
    "Alternativ kann man die Methode `.insert()` nutzen, wobei man dann die genaue Position bestimmen kann, wo das Element hinzugefügt wird. Als ersters Argument der Methode wird der Index angegeben, vor den das Element platziert werden soll, und als zweite Argument das eigentliche Element an sich."
   ]
  },
  {
   "cell_type": "code",
   "execution_count": 25,
   "id": "known-force",
   "metadata": {},
   "outputs": [
    {
     "data": {
      "text/plain": [
       "['a', 2, 5, 9]"
      ]
     },
     "execution_count": 25,
     "metadata": {},
     "output_type": "execute_result"
    }
   ],
   "source": [
    "x = [2, 5, 9]\n",
    "x.insert(0, \"a\")\n",
    "x"
   ]
  },
  {
   "cell_type": "markdown",
   "id": "structured-colleague",
   "metadata": {},
   "source": [
    "### Inhalte einer Liste entfernen"
   ]
  },
  {
   "cell_type": "markdown",
   "id": "brief-sociology",
   "metadata": {},
   "source": [
    "Möchte man jetzt ein bestimmtes Element einer Liste entfernen, verwendet man die `.pop` Methode. Hierzu übergibt man der Methode den Index des Elements, dass man entfernen möchte. Ohne Angabe des Index wird das letzte Element entfernt."
   ]
  },
  {
   "cell_type": "code",
   "execution_count": 26,
   "id": "acceptable-exclusive",
   "metadata": {},
   "outputs": [
    {
     "data": {
      "text/plain": [
       "[2, 5, 8]"
      ]
     },
     "execution_count": 26,
     "metadata": {},
     "output_type": "execute_result"
    }
   ],
   "source": [
    "x = [2, 5, 8, 13]\n",
    "x.pop(3)\n",
    "x"
   ]
  },
  {
   "cell_type": "markdown",
   "id": "contemporary-simpson",
   "metadata": {},
   "source": [
    "Wenn man sich nicht sicher ist, an welcher Stelle das Element ist, kann man auch die Methode `.remove()` verwenden. Diese geht die Liste von Anfang bis Ende durch und entfernt das erste Auftreten des jeweiligen Werts. Im Unterschied `.pop()` gibt man hier also nicht den Index an, sondern den zu entfernenden Wert."
   ]
  },
  {
   "cell_type": "code",
   "execution_count": 27,
   "id": "hourly-mechanism",
   "metadata": {},
   "outputs": [
    {
     "data": {
      "text/plain": [
       "[2, 3, 4, 1, 6, 9, 9, 13, 15]"
      ]
     },
     "execution_count": 27,
     "metadata": {},
     "output_type": "execute_result"
    }
   ],
   "source": [
    "x = [2, 3, 4, 1, 6, 9, 9, 9, 13, 15]\n",
    "x.remove(9)\n",
    "x"
   ]
  },
  {
   "cell_type": "markdown",
   "id": "varying-bulletin",
   "metadata": {},
   "source": [
    "Um eine Liste vollständig zu löschen nutzt man die `.clear()` Methode. Diese löscht schlicht und ergreifend alle Elemente einer Liste und hinterlässt eine leere Liste."
   ]
  },
  {
   "cell_type": "code",
   "execution_count": 28,
   "id": "catholic-discipline",
   "metadata": {},
   "outputs": [
    {
     "data": {
      "text/plain": [
       "[]"
      ]
     },
     "execution_count": 28,
     "metadata": {},
     "output_type": "execute_result"
    }
   ],
   "source": [
    "x = [2, 5, 8 , 13]\n",
    "x.clear()\n",
    "x"
   ]
  },
  {
   "cell_type": "markdown",
   "id": "written-blade",
   "metadata": {},
   "source": [
    "### Verschachtelte Listen"
   ]
  },
  {
   "cell_type": "markdown",
   "id": "commercial-brief",
   "metadata": {},
   "source": [
    "Häufig kommt es in den Naturwissenschaften vor, dass man mit mehrdimensionalen Objekten arbeiten muss. Beispiele hierfür sind Vektoren und Matrizen. Um diese in Python abbilden zu können, lassen sich wie oben beschrieben Listen verschachteln. Dazu werden die innersten Listen, also die Zeilenvektoren, mit Elementen gefüllt und wiederum als Element für eine andere Liste verwendet."
   ]
  },
  {
   "cell_type": "code",
   "execution_count": 29,
   "id": "cooperative-discount",
   "metadata": {},
   "outputs": [
    {
     "data": {
      "text/plain": [
       "[[3, 2, 1], [4, 5, 6], [7, 0, 7]]"
      ]
     },
     "execution_count": 29,
     "metadata": {},
     "output_type": "execute_result"
    }
   ],
   "source": [
    "x = [[3, 2, 1],\n",
    "     [4, 5, 6],\n",
    "     [7, 0, 7]]\n",
    "x"
   ]
  },
  {
   "cell_type": "markdown",
   "id": "fleet-staff",
   "metadata": {},
   "source": [
    "Um auf die Elemente einer verschachtelten Liste zuzugreifen, muss man hintereinander die entsprechende Anzahl an Indizes angeben, wobei man von Außen nach Innen vorgeht"
   ]
  },
  {
   "cell_type": "code",
   "execution_count": 30,
   "id": "greater-juvenile",
   "metadata": {},
   "outputs": [
    {
     "data": {
      "text/plain": [
       "12"
      ]
     },
     "execution_count": 30,
     "metadata": {},
     "output_type": "execute_result"
    }
   ],
   "source": [
    "x = [[11, 12, 15, 16],\n",
    "     [0, 9, 7, 8],\n",
    "     [12, 15, 75, 18]]\n",
    "x[0][1]"
   ]
  },
  {
   "cell_type": "code",
   "execution_count": 31,
   "id": "d6c9d0df-489f-4dc9-bb05-5f7e526fab76",
   "metadata": {},
   "outputs": [
    {
     "data": {
      "text/plain": [
       "9"
      ]
     },
     "execution_count": 31,
     "metadata": {},
     "output_type": "execute_result"
    }
   ],
   "source": [
    "x[1][1]"
   ]
  },
  {
   "cell_type": "markdown",
   "id": "ddf3e554-1eb2-459c-8577-f157659c8f9a",
   "metadata": {},
   "source": [
    "$\\mathbf{A} = \\left( \\begin{matrix} a_{11} & a_{12} & a_{13} & \\ldots & a_{1n} \\\\ a_{21} & a_{22} & a_{23} & \\ldots & a_{2n} \\\\ \\vdots & \\vdots & \\vdots & \\ddots & \\vdots \\\\ a_{m1} & a_{m2} & a_{m3} & \\ldots & a_{mn} \\end{matrix} \\right)$"
   ]
  },
  {
   "cell_type": "markdown",
   "id": "experimental-medicare",
   "metadata": {},
   "source": [
    "Verschachtelte Listen verhalten sich genauso wie alle anderen Listen auch und haben auch die selben Mehthoden, weshalb hier auf weitere Beispiele verzichtet wird."
   ]
  },
  {
   "cell_type": "markdown",
   "id": "completed-consensus",
   "metadata": {},
   "source": [
    "# Funktionen und Methoden"
   ]
  },
  {
   "cell_type": "markdown",
   "id": "honest-device",
   "metadata": {},
   "source": [
    "## Vordefinierte Tätigkeiten auf Knopfdruck"
   ]
  },
  {
   "cell_type": "markdown",
   "id": "similar-transfer",
   "metadata": {},
   "source": [
    "Funktionen und Methoden werden verwendet, um häufig ausgeführte Tätigkeiten wie Sortieren, Zählen, Normieren etc., über einen einfachen Befehlsaufruf zugänglich zu machen. Einfach ausgedrückt: Man will das Rad nicht immer neu erfinden, sondern verwendet das \"Rad\" immer wieder.\n",
    "\n",
    "Der Hauptunterschied zwischen Funktionen und Methoden besteht darin, dass Funktionen für sich alleine stehen und keinem Objekt fest zugeordnet sind, während Methoden stets einem Objekt zugeordnet sind und nicht unabhängig von diesem verwendet werden können.\n",
    "\n",
    "Die Syntax einer Funktion hat also die Form `Funktion(Objekt)`, während eine Methode die Form `Objekt.Methode()` hat."
   ]
  },
  {
   "cell_type": "markdown",
   "id": "related-survivor",
   "metadata": {},
   "source": [
    "## Methoden"
   ]
  },
  {
   "cell_type": "markdown",
   "id": "modular-precipitation",
   "metadata": {},
   "source": [
    "Die Verwendung von Methoden ist ziemlich simpel. Dazu rufen wir einfach die Methode des jeweiligen Objekts auf. Jedes Objekt hat seine eigenen Methoden, wobei Objekte auch gleichlautende Methoden haben können. Diese müssen aber nicht zwangsläufig das selbe tun, auch wenn dies aus didaktischen Gründen meist der Fall ist."
   ]
  },
  {
   "cell_type": "code",
   "execution_count": 32,
   "id": "adolescent-edinburgh",
   "metadata": {},
   "outputs": [
    {
     "name": "stdout",
     "output_type": "stream",
     "text": [
      "[3, 5, 1, 2, 4]\n",
      "\n",
      "Methodenaufruf \n",
      "\n",
      "[1, 2, 3, 4, 5]\n"
     ]
    }
   ],
   "source": [
    "x = [3, 5 ,1, 2, 4]\n",
    "print(x)\n",
    "print(\"\\nMethodenaufruf \\n\")\n",
    "x.sort()\n",
    "print(x)"
   ]
  },
  {
   "cell_type": "markdown",
   "id": "liquid-attention",
   "metadata": {},
   "source": [
    "Dabei gilt es zu beachten, dass manche Methoden ein Objekt permanent verändern, während manche Methoden nur eine geänderte Kopie des Objekts zurückgeben."
   ]
  },
  {
   "cell_type": "code",
   "execution_count": 33,
   "id": "early-velvet",
   "metadata": {},
   "outputs": [
    {
     "name": "stdout",
     "output_type": "stream",
     "text": [
      "1\n",
      "\n",
      "[6, 8, 1, 9, 4]\n",
      "\n",
      "[1, 4, 6, 8, 9]\n"
     ]
    }
   ],
   "source": [
    "x = [6, 8, 1, 9, 4]\n",
    "print(x.count(1))\n",
    "print()\n",
    "print(x)\n",
    "print()\n",
    "x.sort()\n",
    "print(x)"
   ]
  },
  {
   "cell_type": "markdown",
   "id": "broad-rubber",
   "metadata": {},
   "source": [
    "## Funktionen"
   ]
  },
  {
   "cell_type": "markdown",
   "id": "cooperative-river",
   "metadata": {},
   "source": [
    "Funktionen können entweder von externen Quellen importiert, oder selbst geschrieben werden. Wir konzentrieren uns zunächst auf das Schreiben eigener Funktionen, importierte Funktionen werden wir im nächsten Teil kennenlernen."
   ]
  },
  {
   "cell_type": "markdown",
   "id": "crude-europe",
   "metadata": {},
   "source": [
    "### Funktionen definieren"
   ]
  },
  {
   "cell_type": "markdown",
   "id": "earlier-antenna",
   "metadata": {},
   "source": [
    "Jede selbstgeschriebene Funktion beginnt mit dem Schlüsselwort `def`, gefolgt von dem Namen der Funktion und den Parametern in runden Klammern und schließt mit einem Doppelpunkt. Der Funktionsblock wird dadrunter, um 4 Leerzeichen eingerückt, geschrieben. Zusammengesetzt sieht das dann so aus:\n",
    "\n",
    "`def Funktionsname(Parameter):`  \n",
    "`____Parameter`\n",
    "\n",
    "Der Funktionsblock muss zwingend mit 4 Leerzeichen eingerückt werden, da der Python-Interpreter sonst nicht erkennt, dass die Anweisungen zu der Funktion gehört. Diese Eigenschaft von Python werden wir später erneut sehen, wenn wir auf Schleifen und Verzweigungen eingehen."
   ]
  },
  {
   "cell_type": "code",
   "execution_count": 34,
   "id": "changed-membrane",
   "metadata": {},
   "outputs": [],
   "source": [
    "def add_two(x):\n",
    "    y = x + 2\n",
    "    return y"
   ]
  },
  {
   "cell_type": "markdown",
   "id": "dietary-fossil",
   "metadata": {},
   "source": [
    "Die oben definierte Funktion hat lediglich einen Parameter, `x`, es können aber natürlich mehrere verwendet werden. Der Funktionsblock definiert eine neue Variable, `y`, welche das Ergebniss der Addition vom Parameter `x` mit der Zahl 2 ist. Abschließend gibt die Funktion über den `return y` Befehl den Inhalt der Variable `y` zurück.\n",
    "\n",
    "Um nun `add_two` zu verwenden geben wir einfach Ihren Namen ein und, wieder ohne Leerzeichen, die um 2 zu erhöhende Zahl in Klammern direkt dahinter."
   ]
  },
  {
   "cell_type": "code",
   "execution_count": 35,
   "id": "numeric-transport",
   "metadata": {},
   "outputs": [
    {
     "data": {
      "text/plain": [
       "7"
      ]
     },
     "execution_count": 35,
     "metadata": {},
     "output_type": "execute_result"
    }
   ],
   "source": [
    "add_two(5)"
   ]
  },
  {
   "cell_type": "markdown",
   "id": "numeric-advocate",
   "metadata": {},
   "source": [
    "Wir können das Ergebniss der Funktion natürlich auch wieder in einer neuen Variablen speichern."
   ]
  },
  {
   "cell_type": "code",
   "execution_count": 36,
   "id": "amateur-disney",
   "metadata": {},
   "outputs": [
    {
     "data": {
      "text/plain": [
       "7"
      ]
     },
     "execution_count": 36,
     "metadata": {},
     "output_type": "execute_result"
    }
   ],
   "source": [
    "number = add_two(5)\n",
    "number"
   ]
  },
  {
   "cell_type": "markdown",
   "id": "dried-period",
   "metadata": {},
   "source": [
    "### Zugriff auf Variablen in Funktionen"
   ]
  },
  {
   "cell_type": "markdown",
   "id": "accessible-stress",
   "metadata": {},
   "source": [
    "Auf Variablen innerhalb einer Funktion kann von Außen nicht zugegriffen werden. Im Beispiel von `add_two` können wir also nicht ohne weiteres den Inhalt von `y` abrufen."
   ]
  },
  {
   "cell_type": "code",
   "execution_count": 37,
   "id": "adjusted-december",
   "metadata": {},
   "outputs": [
    {
     "data": {
      "text/plain": [
       "3"
      ]
     },
     "execution_count": 37,
     "metadata": {},
     "output_type": "execute_result"
    }
   ],
   "source": [
    "z = add_two(5)\n",
    "y"
   ]
  },
  {
   "cell_type": "markdown",
   "id": "other-attendance",
   "metadata": {},
   "source": [
    "Anders rum können wir innerhalb einer Funktion auf global definierte Variablen zugreifen."
   ]
  },
  {
   "cell_type": "code",
   "execution_count": 38,
   "id": "returning-facing",
   "metadata": {},
   "outputs": [
    {
     "name": "stdout",
     "output_type": "stream",
     "text": [
      "[0, 1, 2, 3]\n"
     ]
    },
    {
     "data": {
      "text/plain": [
       "4"
      ]
     },
     "execution_count": 38,
     "metadata": {},
     "output_type": "execute_result"
    }
   ],
   "source": [
    "spam = [0, 1, 2, 3]\n",
    "\n",
    "def add_two(x):\n",
    "    print(spam)\n",
    "    y = x +2\n",
    "    return y\n",
    "\n",
    "add_two(2)"
   ]
  },
  {
   "cell_type": "markdown",
   "id": "complex-sight",
   "metadata": {},
   "source": [
    "# Verzweigungen und Schleifen"
   ]
  },
  {
   "cell_type": "markdown",
   "id": "sticky-characterization",
   "metadata": {},
   "source": [
    "Auch in Python gibt es die Möglichkeit, mit Verzweigungen und Schleifen fallbezogene Entscheidungen im Programmablauf zu treffen. Je nach Eingabe erhält man bei Verzweigungen unterschiedliche Ausgaben, während bei Schleifen ein statischer Befehlsblock für eine gewisse Anzahl von Wiederholungen ausgeführt wird.\n",
    "\n",
    "Wir gehen zunächst auf Verzweigungen ein und danach auf Schleifen."
   ]
  },
  {
   "cell_type": "markdown",
   "id": "sunset-participation",
   "metadata": {},
   "source": [
    "## Verzweigungen"
   ]
  },
  {
   "cell_type": "markdown",
   "id": "robust-hotel",
   "metadata": {},
   "source": [
    "Verzweigungen lassen sich wie eine Weggabelung an einer Straße begreifen, wo je nach gewünschtem Ziel eine anderer Weg eingeschlagen wird. Hierbei ist die Entscheidung für einen Weg an eine klare Ja/Nein-Frage gebunden. Es können auch mehrere Wege offen stehen, jedoch kann immer nur jeweils ein Weg beschritten werden."
   ]
  },
  {
   "cell_type": "markdown",
   "id": "adjustable-television",
   "metadata": {},
   "source": [
    "### Verzweigungen definieren"
   ]
  },
  {
   "cell_type": "markdown",
   "id": "signal-rachel",
   "metadata": {},
   "source": [
    "Verzweigungen folgen in Python einer festen Syntax. Die Verzweigung beginnt immer mit einem `if`, folgt dann mit  einer Bedingung welche entweder wahr oder falsch ist und schließt mit einem Doppelpunkt. Die eigentlichen Anweisungen werden wieder mit 4 Leerzeichen eingerückt. Zusammengesetzt sieht das dann so aus:\n",
    "\n",
    "`if Bedingung:`  \n",
    "`____Anweisungsblock`  \n"
   ]
  },
  {
   "cell_type": "code",
   "execution_count": 39,
   "id": "hollow-queensland",
   "metadata": {},
   "outputs": [
    {
     "name": "stdout",
     "output_type": "stream",
     "text": [
      "3\n"
     ]
    }
   ],
   "source": [
    "x = 3\n",
    "\n",
    "if x > 2:\n",
    "    print(x)"
   ]
  },
  {
   "cell_type": "markdown",
   "id": "olympic-myanmar",
   "metadata": {},
   "source": [
    "Im oberen Beispiel wird der Befehl `print(x)` nur dann ausgeführt, wenn `x` größer als 2 ist. Möchten wir jetzt noch den gegenteiligen Fall abdecken, nämlich dass `x` kleiner oder gleich 2 ist, müssen wir unter den Anweisungsblock auf gleicher Höhe mit dem `if` ein `else` setzen. Unter das `else`, auch wieder mit 4 Leerzeichen eingerückt, folgen dann die Anweisungen für den gegenteiligen Fall."
   ]
  },
  {
   "cell_type": "code",
   "execution_count": 40,
   "id": "supposed-government",
   "metadata": {},
   "outputs": [
    {
     "name": "stdout",
     "output_type": "stream",
     "text": [
      "x ist kleiner oder gleich 2\n"
     ]
    }
   ],
   "source": [
    "x = 2\n",
    "\n",
    "if x > 2:\n",
    "    print(x)\n",
    "else:\n",
    "    print(\"x ist kleiner oder gleich 2\")"
   ]
  },
  {
   "cell_type": "markdown",
   "id": "deluxe-glory",
   "metadata": {},
   "source": [
    "### Mehr als 2 Fälle unterscheiden"
   ]
  },
  {
   "cell_type": "markdown",
   "id": "certified-accused",
   "metadata": {},
   "source": [
    "Soll nun zwischen mehr als 2 Fällen unterschieden werden, verwendet man das Schlüsselwort `elif`, ein Kofferwort aus `else` und `if`. Die Verzweigung beginnt wieder mit `if`, aber statt `else` folgen nun so viele `elif`-s, wie man Bedinungen hat. Das `else` kann dann als Abschluss optional verwendet werden, ist aber nicht zwingend erforderlich. Dies hängt davon ab, ob es eine universelle Anweisung gibt, welche bei Erfüllung keiner der Fälle greifen soll."
   ]
  },
  {
   "cell_type": "code",
   "execution_count": 41,
   "id": "numerical-reducing",
   "metadata": {},
   "outputs": [
    {
     "name": "stdout",
     "output_type": "stream",
     "text": [
      "x ist gleich 2\n"
     ]
    }
   ],
   "source": [
    "x = 2\n",
    "\n",
    "if x > 2:\n",
    "    print(\"x ist größer als 2\")\n",
    "elif x == 2:\n",
    "    print(\"x ist gleich 2\")\n",
    "else:\n",
    "    print(\"x ist kleiner als 2\")"
   ]
  },
  {
   "cell_type": "markdown",
   "id": "fatty-traveler",
   "metadata": {},
   "source": [
    "Bei mehr als zwei Bedingungen geht der Interpreter diese von oben nach unten durch und führt die erste aus, welche wahr ist. Hier sollte also drauf geachtet werden, dass die Bedingungen nach der Priorität/Restriktivität absteigend geordnet sind."
   ]
  },
  {
   "cell_type": "code",
   "execution_count": 42,
   "id": "still-completion",
   "metadata": {},
   "outputs": [
    {
     "name": "stdout",
     "output_type": "stream",
     "text": [
      "x ist größer als 7\n"
     ]
    }
   ],
   "source": [
    "x = 8\n",
    "\n",
    "if x > 9:\n",
    "    print(\"x ist größer als 9\")\n",
    "elif x > 8:\n",
    "    print(\"x ist größer als 8\")\n",
    "elif x > 7:\n",
    "    print(\"x ist größer als 7\")\n",
    "elif x > 6:\n",
    "    print(\"x ist größer als 6\")\n",
    "elif x > 5:\n",
    "    print(\"x ist größer als 5\")"
   ]
  },
  {
   "cell_type": "markdown",
   "id": "included-marriage",
   "metadata": {},
   "source": [
    "### Mehre Bedingungen prüfen"
   ]
  },
  {
   "cell_type": "markdown",
   "id": "distant-russian",
   "metadata": {},
   "source": [
    "Bisher haben wir immer nur eine Bedingung geprüft. Wir können aber auch mehrere Bedingungen gleichzeitig prüfen, also eine Anweisung nur dann ausführen, wenn mehr als eine Bedingung erfüllt ist. Dazu werden die Bedingungen mit den logischen Operatoren `and` oder `or` verknüpft. Zusätzlich kann noch `not` verwendet um eine Bedingung zu negieren."
   ]
  },
  {
   "cell_type": "code",
   "execution_count": 43,
   "id": "incoming-photograph",
   "metadata": {},
   "outputs": [
    {
     "name": "stdout",
     "output_type": "stream",
     "text": [
      "eggs\n"
     ]
    }
   ],
   "source": [
    "x = 2\n",
    "y = 12\n",
    "\n",
    "if x == 3 and y == 10:\n",
    "    print(\"spam\")\n",
    "elif x == 4 and y == 9:\n",
    "    print(\"ham\")\n",
    "elif x == 2 and y == 12:\n",
    "    print(\"eggs\")"
   ]
  },
  {
   "cell_type": "markdown",
   "id": "continued-aruba",
   "metadata": {},
   "source": [
    "## Schleifen"
   ]
  },
  {
   "cell_type": "markdown",
   "id": "everyday-timer",
   "metadata": {},
   "source": [
    "Im Gegensatz zu Verzweigungen führen Schleifen immer die gleichen Anweisungen aus, diese jedoch mehrmals hintereinander. Die Anzahl der Wiederholungen hängt von der Abbruchbedingung ab. Ist diese erfüllt, wird die Schleife gestoppt. Die Abbruchbedingung kann\n",
    "\n",
    ">statisch (eg. die Schleife wird exakt 5 mal ausgeführt) oder\n",
    "\n",
    ">dynamisch (eg. die Schleife wird so lange ausgeführt, wie der User 1 eingibt)\n",
    "\n",
    "sein.\n",
    "\n",
    "In Python gibt es (statische) `for` Schleifen und (dynamische) `while` Schleifen. Wir beginnen mit den `for` Schleifen."
   ]
  },
  {
   "cell_type": "markdown",
   "id": "guided-massachusetts",
   "metadata": {},
   "source": [
    "### for Schleifen mit numerischen Indizes"
   ]
  },
  {
   "cell_type": "markdown",
   "id": "sonic-lender",
   "metadata": {},
   "source": [
    "Wie oben erwähnt sind `for` Schleifen statisch. Das bedeutet, dass bereits zu Beginn der Ausführung feststeht wie häufig die Schleife durchlaufen wird. Eine `for` Schleife beginnt immer mit dem Schlüsselwort `for`, gefolgt vom Durchlaufindex (Variable), anschließend das Schlüsselwort `in`, das zu durchlaufende Objekt und ein Doppelpunkt. In der nächsten Zeile mit 4 Leerzeichen eingerückt folgt der Anweisungsblock. Das Ergebnis sieht dann so aus:\n",
    "\n",
    "`for Index in Objekt:`  \n",
    "`____Anweisungsblock`\n",
    "    \n",
    "Sehr häufig werden fortlaufende Zahlen als Index verwendet. Dafür wird die `range()` Funktion verwendet. Bei jedem Aufruf gibt sie eine Ganzzahl in einem festgelegten Intervall zurück. Wenn nur eine einzelne Zahl als Parameter übergeben wird werden alle Zahlen von 0 bis außschließlich dieser Zahl zurückgegeben."
   ]
  },
  {
   "cell_type": "code",
   "execution_count": 44,
   "id": "academic-crest",
   "metadata": {},
   "outputs": [
    {
     "name": "stdout",
     "output_type": "stream",
     "text": [
      "0\n",
      "1\n",
      "2\n",
      "3\n",
      "4\n"
     ]
    }
   ],
   "source": [
    "for i in range(5):\n",
    "    print(i)"
   ]
  },
  {
   "cell_type": "markdown",
   "id": "liquid-brooks",
   "metadata": {},
   "source": [
    "Die `range()` Funktion lässt sich aber noch weiter an die eigenen Bedürfnisse anpassen. Werden zwei Zahlen als Parameter angegeben wird die erste als Untergrenze und die zweite als Obergrenze verwendet. Auch hier gilt wieder: Die Obergrenze wird nicht erreicht."
   ]
  },
  {
   "cell_type": "code",
   "execution_count": 45,
   "id": "current-delivery",
   "metadata": {},
   "outputs": [
    {
     "name": "stdout",
     "output_type": "stream",
     "text": [
      "5\n",
      "6\n",
      "7\n",
      "8\n",
      "9\n"
     ]
    }
   ],
   "source": [
    "for i in range(5, 10):\n",
    "    print(i)"
   ]
  },
  {
   "cell_type": "markdown",
   "id": "handmade-score",
   "metadata": {},
   "source": [
    "Mit diesem Wissen lassen sich nun ganz einfach `for` Schleifen zum Durchlaufen von Listen verwenden. Dazu verwendet man den Durchlaufindex der `for` Schleife einfach als Listenindex."
   ]
  },
  {
   "cell_type": "code",
   "execution_count": 46,
   "id": "marine-criticism",
   "metadata": {},
   "outputs": [
    {
     "name": "stdout",
     "output_type": "stream",
     "text": [
      "eggs\n",
      "7\n",
      "[0, 1, 2]\n"
     ]
    }
   ],
   "source": [
    "spam = [\"ham\", \"eggs\", 7, [0, 1, 2], \"me\"]\n",
    "\n",
    "for i in range(1, 4):\n",
    "    print(spam[i])"
   ]
  },
  {
   "cell_type": "markdown",
   "id": "celtic-ancient",
   "metadata": {},
   "source": [
    "### for Schleifen mit Objektindizes"
   ]
  },
  {
   "cell_type": "markdown",
   "id": "cultural-lucas",
   "metadata": {},
   "source": [
    "Es lassen sich aber nicht nur Zahlen als Durchlaufindex verwenden. Wenn es sich um Objekte wie Listen, Strings o.ä. handelt (sogenannte Iterables), können auch die einzelnen Elemente dieser Objekte selbst als Indizes verwenden. Dazu wird statt der `range` Funktion einfach das Objekt an sich angegeben, welches durchschritten werden soll. Dann wirkt der Durchlaufindex als Referenz auf die einzelnen Elemente eines Objekts."
   ]
  },
  {
   "cell_type": "code",
   "execution_count": 47,
   "id": "banner-aggregate",
   "metadata": {},
   "outputs": [
    {
     "name": "stdout",
     "output_type": "stream",
     "text": [
      "1\n",
      "5\n",
      "9\n",
      "[0, 2]\n",
      "eggs\n",
      "ham\n"
     ]
    }
   ],
   "source": [
    "spam = [1, 5, 9, [0, 2], \"eggs\", \"ham\"]\n",
    "\n",
    "for i in spam:\n",
    "    print(i)"
   ]
  },
  {
   "cell_type": "markdown",
   "id": "insured-roberts",
   "metadata": {},
   "source": [
    "So können selbst Strings durchschritten werden."
   ]
  },
  {
   "cell_type": "code",
   "execution_count": 48,
   "id": "built-kennedy",
   "metadata": {},
   "outputs": [
    {
     "name": "stdout",
     "output_type": "stream",
     "text": [
      "s\n",
      "p\n",
      "a\n",
      "m\n"
     ]
    }
   ],
   "source": [
    "this = \"spam\"\n",
    "\n",
    "for i in this:\n",
    "    print(i)"
   ]
  },
  {
   "cell_type": "markdown",
   "id": "bibliographic-arrow",
   "metadata": {},
   "source": [
    "### while Schleifen"
   ]
  },
  {
   "cell_type": "markdown",
   "id": "functioning-prison",
   "metadata": {},
   "source": [
    "Im Gegensatz zu `for` Schleifen haben `while` Schleifen eine dynamische Abbruchbedingung. Zu Beginn der Ausführung muss also die Anzahl der Wiederholungen noch nicht feststehen. Die Syntax von `while` Schleife ist ähnlich zu der von `for` Schleifen. Zu Beginn steht das Schlüsselwort `while`, danach die zu prüfende Bedingung und daran ein Doppelpunkt. Der Anweisungsblock wird wie üblich in der Zeile darunter mit 4 Leerzeichen eingerückt. Das sieht dann so aus:\n",
    "\n",
    "`while Bedingung:`  \n",
    "`____Anweisungsblock`\n",
    "\n",
    "Im Gegensatz zur `for` Schleife muss bei der `while` Schleife also die Variable bereits deklariert sein, welche als Bedingung verwendet werden soll. Ebenfalls muss die Anweisung zum Abbruch der Schleife aus dem Anweisungsblock an sich kommen, da im Kopf der Schleife keine Änderung dieser erfolgt."
   ]
  },
  {
   "cell_type": "code",
   "execution_count": 49,
   "id": "union-context",
   "metadata": {},
   "outputs": [
    {
     "name": "stdout",
     "output_type": "stream",
     "text": [
      "i has the value 0, thus i is smaller than 10.\n",
      "i has the value 1, thus i is smaller than 10.\n",
      "i has the value 2, thus i is smaller than 10.\n",
      "i has the value 3, thus i is smaller than 10.\n",
      "i has the value 4, thus i is smaller than 10.\n",
      "i has the value 5, thus i is smaller than 10.\n",
      "i has the value 6, thus i is smaller than 10.\n",
      "i has the value 7, thus i is smaller than 10.\n",
      "i has the value 8, thus i is smaller than 10.\n",
      "i has the value 9, thus i is smaller than 10.\n"
     ]
    }
   ],
   "source": [
    "i = 0\n",
    "\n",
    "while i < 10:\n",
    "    print(\"i has the value \" + str(i) + \", thus i is smaller than 10.\")\n",
    "    i += 1"
   ]
  },
  {
   "cell_type": "markdown",
   "id": "b012b772-215d-46b0-b646-8bbd18ce53fc",
   "metadata": {},
   "source": [
    "Wir sehen uns zum Abschluss dieses Kapitels noch ein einfaches Beispiel für eine `while` Schleife an, die Inabhängigkeit von der Eingabe des Benutzers eine weitere Iteration durchläuft oder abbricht."
   ]
  },
  {
   "cell_type": "code",
   "execution_count": 50,
   "id": "fe10a6b6-8425-413f-a844-3185eca511fc",
   "metadata": {},
   "outputs": [
    {
     "name": "stdout",
     "output_type": "stream",
     "text": [
      "This loop has run for 0 iterations.\n"
     ]
    },
    {
     "name": "stdin",
     "output_type": "stream",
     "text": [
      "Do you wanna continue? press y for yes, n for no. y\n"
     ]
    },
    {
     "name": "stdout",
     "output_type": "stream",
     "text": [
      "This loop has run for 1 iterations.\n"
     ]
    },
    {
     "name": "stdin",
     "output_type": "stream",
     "text": [
      "Do you wanna continue? press y for yes, n for no. y\n"
     ]
    },
    {
     "name": "stdout",
     "output_type": "stream",
     "text": [
      "This loop has run for 2 iterations.\n"
     ]
    },
    {
     "name": "stdin",
     "output_type": "stream",
     "text": [
      "Do you wanna continue? press y for yes, n for no. y\n"
     ]
    },
    {
     "name": "stdout",
     "output_type": "stream",
     "text": [
      "This loop has run for 3 iterations.\n"
     ]
    },
    {
     "name": "stdin",
     "output_type": "stream",
     "text": [
      "Do you wanna continue? press y for yes, n for no. y\n"
     ]
    },
    {
     "name": "stdout",
     "output_type": "stream",
     "text": [
      "This loop has run for 4 iterations.\n"
     ]
    },
    {
     "name": "stdin",
     "output_type": "stream",
     "text": [
      "Do you wanna continue? press y for yes, n for no. y\n"
     ]
    },
    {
     "name": "stdout",
     "output_type": "stream",
     "text": [
      "This loop has run for 5 iterations.\n"
     ]
    },
    {
     "name": "stdin",
     "output_type": "stream",
     "text": [
      "Do you wanna continue? press y for yes, n for no. n\n"
     ]
    }
   ],
   "source": [
    "j = 0\n",
    "\n",
    "while True:\n",
    "    print(\"This loop has run for \" + str(j) + \" iterations.\")\n",
    "    answer = input(\"Do you wanna continue? press y for yes, n for no.\")\n",
    "    j = j +1\n",
    "    if answer == \"y\":\n",
    "        continue\n",
    "    elif answer == \"n\":\n",
    "        break"
   ]
  }
 ],
 "metadata": {
  "author": "Maximilian Schnadt",
  "authors": [
   {
    "name": "Maximilian Schnadt"
   }
  ],
  "kernelspec": {
   "display_name": "Python 3 (ipykernel)",
   "language": "python",
   "name": "python3"
  },
  "language_info": {
   "codemirror_mode": {
    "name": "ipython",
    "version": 3
   },
   "file_extension": ".py",
   "mimetype": "text/x-python",
   "name": "python",
   "nbconvert_exporter": "python",
   "pygments_lexer": "ipython3",
   "version": "3.8.12"
  }
 },
 "nbformat": 4,
 "nbformat_minor": 5
}
